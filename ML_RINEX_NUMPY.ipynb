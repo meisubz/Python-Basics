{
  "nbformat": 4,
  "nbformat_minor": 0,
  "metadata": {
    "colab": {
      "provenance": []
    },
    "kernelspec": {
      "name": "python3",
      "display_name": "Python 3"
    },
    "language_info": {
      "name": "python"
    }
  },
  "cells": [
    {
      "cell_type": "code",
      "source": [
        "#Numpy (Numerical Python)\n",
        "x = [1,2,3,4,5]\n",
        "x_new = []\n",
        "for z in x:\n",
        "  x_new.append(z+1)\n",
        "print(x_new)"
      ],
      "metadata": {
        "colab": {
          "base_uri": "https://localhost:8080/"
        },
        "id": "BS45OcBw3ro6",
        "outputId": "2befb50a-9202-4844-ba92-93f2b5649ac5"
      },
      "execution_count": null,
      "outputs": [
        {
          "output_type": "stream",
          "name": "stdout",
          "text": [
            "[2, 3, 4, 5, 6]\n"
          ]
        }
      ]
    },
    {
      "cell_type": "code",
      "source": [
        "#Importing NUMPY library\n",
        "import numpy as np #Alias name\n",
        "x = [1,2,3,4,5]\n",
        "#Coverting a list into an array\n",
        "array1 = np.array(x)\n",
        "#type(x)\n",
        "#type(array1)\n",
        "print(x)\n",
        "x = [1,2,3,4,5]\n",
        "x_new = []\n",
        "for z in x:\n",
        "  x_new.append(z+1)\n",
        "print(x_new)\n",
        "\n",
        "print(array1)\n",
        "print(array1+1)\n",
        "#An array, unlike a list, doesn't have the elements separated by commas"
      ],
      "metadata": {
        "colab": {
          "base_uri": "https://localhost:8080/"
        },
        "id": "6xMrYIhU4E5d",
        "outputId": "f131c37b-136e-42b3-feef-aa51a758597c"
      },
      "execution_count": null,
      "outputs": [
        {
          "output_type": "stream",
          "name": "stdout",
          "text": [
            "[1, 2, 3, 4, 5]\n",
            "[2, 3, 4, 5, 6]\n",
            "[1 2 3 4 5]\n",
            "[2 3 4 5 6]\n"
          ]
        }
      ]
    },
    {
      "cell_type": "code",
      "source": [
        "import numpy as np\n",
        "x = [1,2,3,4,5]\n",
        "y = [6,7,8,9,10]\n",
        "array1 = np.array(x)\n",
        "array2 = np.array(y)\n",
        "result_add = array1 + array2\n",
        "print(result_add)\n",
        "result_sub = array2 - array1\n",
        "print(result_sub)\n",
        "result_mul = array1 * array2\n",
        "print(result_mul)"
      ],
      "metadata": {
        "colab": {
          "base_uri": "https://localhost:8080/"
        },
        "id": "m5Hak5om4uAq",
        "outputId": "06a3b42e-8ea5-4842-88ad-da8578ebdacd"
      },
      "execution_count": null,
      "outputs": [
        {
          "output_type": "stream",
          "name": "stdout",
          "text": [
            "[ 7  9 11 13 15]\n",
            "[5 5 5 5 5]\n",
            "[ 6 14 24 36 50]\n"
          ]
        }
      ]
    },
    {
      "cell_type": "code",
      "source": [
        "import numpy as np\n",
        "#Direct Conversion\n",
        "array_1 = np.array([1,2,3,4,5])\n",
        "array_2 = np.array([2,3,4,5,6])\n",
        "max_val_1 = np.max(array_1)\n",
        "max_val_2 = np.max(array_2)\n",
        "min_val_1 = np.min(array_1)\n",
        "min_val_2 = np.min(array_2)\n",
        "print(min_val_2, min_val_1, max_val_1, max_val_2)\n",
        "#Mean Value\n",
        "np.mean(array_1)"
      ],
      "metadata": {
        "colab": {
          "base_uri": "https://localhost:8080/"
        },
        "id": "fqks990T5d1x",
        "outputId": "bc0d9f3c-47fa-4508-cbb9-56e7c39a95bb"
      },
      "execution_count": null,
      "outputs": [
        {
          "output_type": "stream",
          "name": "stdout",
          "text": [
            "2 1 5 6\n"
          ]
        },
        {
          "output_type": "execute_result",
          "data": {
            "text/plain": [
              "3.0"
            ]
          },
          "metadata": {},
          "execution_count": 4
        }
      ]
    },
    {
      "cell_type": "code",
      "source": [
        "#Finding the dimension\n",
        "x = [1,2,3,4,5]\n",
        "import numpy as np\n",
        "arr_x = np.array(x)\n",
        "print(arr_x)\n",
        "arr_x.ndim"
      ],
      "metadata": {
        "colab": {
          "base_uri": "https://localhost:8080/"
        },
        "id": "2n2jw2fs6cs8",
        "outputId": "be3b94ee-66aa-4208-b5e8-e5a72e199714"
      },
      "execution_count": null,
      "outputs": [
        {
          "output_type": "stream",
          "name": "stdout",
          "text": [
            "[1 2 3 4 5]\n"
          ]
        },
        {
          "output_type": "execute_result",
          "data": {
            "text/plain": [
              "1"
            ]
          },
          "metadata": {},
          "execution_count": 5
        }
      ]
    },
    {
      "cell_type": "code",
      "source": [
        "y = [[1,2,5],[3,4,6]]\n",
        "import numpy as np\n",
        "arr_y = np.array(y)\n",
        "arr_y.ndim"
      ],
      "metadata": {
        "colab": {
          "base_uri": "https://localhost:8080/"
        },
        "id": "Dib9K9cc8IAA",
        "outputId": "c3c0ce7e-f6c0-4a88-cd09-ae4487623b38"
      },
      "execution_count": null,
      "outputs": [
        {
          "output_type": "execute_result",
          "data": {
            "text/plain": [
              "2"
            ]
          },
          "metadata": {},
          "execution_count": 6
        }
      ]
    },
    {
      "cell_type": "code",
      "source": [
        "z = [[[1,2,3], [4,5,6]] , [[7,8,9], [10,11,12]]]\n",
        "import numpy as np\n",
        "arr_z = np.array(z)\n",
        "\n",
        "'''\n",
        "x = [] #step 1 Creating outermost list\n",
        "x = [[],[]] #step 2 Creating inner list\n",
        "x = [[[1,2,3], [4,5,6]] , [[7,8,9], [10,11,12]]] #step 3 Creating inner most list\n",
        "\n",
        "'''\n",
        "print(arr_z.ndim)\n",
        "print(arr_z.shape)"
      ],
      "metadata": {
        "colab": {
          "base_uri": "https://localhost:8080/"
        },
        "id": "3cmv8t808kRY",
        "outputId": "9e3dacba-8956-466d-f80c-99748c81a4a3"
      },
      "execution_count": null,
      "outputs": [
        {
          "output_type": "stream",
          "name": "stdout",
          "text": [
            "3\n",
            "(2, 2, 3)\n"
          ]
        }
      ]
    },
    {
      "cell_type": "code",
      "source": [
        "'''\n",
        "\n",
        "array.shape\n",
        "(x,y,z):\n",
        "x => no. of outer list\n",
        "y => no. of inner list\n",
        "z => no. of values inside the inner list\n",
        "\n",
        "'''"
      ],
      "metadata": {
        "colab": {
          "base_uri": "https://localhost:8080/",
          "height": 36
        },
        "id": "N-0Irlr69Ox9",
        "outputId": "eab414be-dc77-4a25-cc74-07624593cdfc"
      },
      "execution_count": null,
      "outputs": [
        {
          "output_type": "execute_result",
          "data": {
            "text/plain": [
              "'\\n\\narray.shape\\n(x,y,z):\\nx => no. of outer list\\ny => no. of inner list\\nz => no. of values inside the inner list\\n\\n'"
            ],
            "application/vnd.google.colaboratory.intrinsic+json": {
              "type": "string"
            }
          },
          "metadata": {},
          "execution_count": 8
        }
      ]
    },
    {
      "cell_type": "code",
      "source": [
        "import numpy as np\n",
        "from numpy import random\n",
        "x = (random.randint(100))\n",
        "z = np.array(x)\n",
        "z.ndim"
      ],
      "metadata": {
        "colab": {
          "base_uri": "https://localhost:8080/"
        },
        "id": "zzjixr1Y_A7e",
        "outputId": "5ffe372f-6d15-4a02-81e4-bf1bdf3c778d"
      },
      "execution_count": null,
      "outputs": [
        {
          "output_type": "execute_result",
          "data": {
            "text/plain": [
              "0"
            ]
          },
          "metadata": {},
          "execution_count": 9
        }
      ]
    },
    {
      "cell_type": "markdown",
      "source": [
        "## Array Generation"
      ],
      "metadata": {
        "id": "O660gUchBAoJ"
      }
    },
    {
      "cell_type": "code",
      "source": [
        "x = random.randint(100, size=(5)) #1D Array\n",
        "x.ndim"
      ],
      "metadata": {
        "colab": {
          "base_uri": "https://localhost:8080/"
        },
        "id": "LDWX5s5m_hwM",
        "outputId": "3ee676b5-525e-457a-d9ca-f3955dffb02c"
      },
      "execution_count": null,
      "outputs": [
        {
          "output_type": "execute_result",
          "data": {
            "text/plain": [
              "1"
            ]
          },
          "metadata": {},
          "execution_count": 10
        }
      ]
    },
    {
      "cell_type": "code",
      "source": [
        "y = random.randint(100, size=(2,5)) #2D Array\n",
        "print(y)\n",
        "print(y.ndim)"
      ],
      "metadata": {
        "colab": {
          "base_uri": "https://localhost:8080/"
        },
        "id": "txVC90YB_4tP",
        "outputId": "8bd3aa3e-de3f-4711-8a8b-ef5431551a1f"
      },
      "execution_count": null,
      "outputs": [
        {
          "output_type": "stream",
          "name": "stdout",
          "text": [
            "[[ 1 11 26 24 99]\n",
            " [95 81 78  0 23]]\n",
            "2\n"
          ]
        }
      ]
    },
    {
      "cell_type": "code",
      "source": [
        "z = random.randint(100, size=(2,2,5)) #3D Array\n",
        "print(z)\n",
        "print(z.ndim)"
      ],
      "metadata": {
        "colab": {
          "base_uri": "https://localhost:8080/"
        },
        "id": "7vBz5gXyANW1",
        "outputId": "5c54b0a1-a5de-4321-c030-111351bab126"
      },
      "execution_count": null,
      "outputs": [
        {
          "output_type": "stream",
          "name": "stdout",
          "text": [
            "[[[66 80 59 16 22]\n",
            "  [59 78 84  3 82]]\n",
            "\n",
            " [[82 50  2 64 47]\n",
            "  [21 74 95 81 69]]]\n",
            "3\n"
          ]
        }
      ]
    },
    {
      "cell_type": "code",
      "source": [
        "#Arange (A-Range)\n",
        "'''\n",
        "Similar to range function, but this (A-Range) returns array\n",
        "\n",
        "'''\n",
        "print(np.arange(5))\n",
        "print(np.arange(5, dtype = float))\n",
        "print(np.arange(5, dtype = object)) #Handles/Supports (both float and integer) all data types"
      ],
      "metadata": {
        "colab": {
          "base_uri": "https://localhost:8080/"
        },
        "id": "EieZK9rLAQsl",
        "outputId": "c9aedcae-2a6c-4e66-c354-e1ec4f508db6"
      },
      "execution_count": null,
      "outputs": [
        {
          "output_type": "stream",
          "name": "stdout",
          "text": [
            "[0 1 2 3 4]\n",
            "[0. 1. 2. 3. 4.]\n",
            "[0 1 2 3 4]\n"
          ]
        }
      ]
    },
    {
      "cell_type": "code",
      "source": [
        "print(np.arange(5, 51, 5, dtype = object)) #Works as the range function in the form of an array"
      ],
      "metadata": {
        "colab": {
          "base_uri": "https://localhost:8080/"
        },
        "id": "4A1vqp4jBlDe",
        "outputId": "0c325cb5-f74c-4ce9-d27d-acf8277ebbf1"
      },
      "execution_count": null,
      "outputs": [
        {
          "output_type": "stream",
          "name": "stdout",
          "text": [
            "[5 10 15 20 25 30 35 40 45 50]\n"
          ]
        }
      ]
    },
    {
      "cell_type": "code",
      "source": [
        "#Write an arange\n",
        "print(np.arange(50, 101, 10, dtype = object)) #Works as the range function in the form of an array"
      ],
      "metadata": {
        "colab": {
          "base_uri": "https://localhost:8080/"
        },
        "id": "0JP7EXLaCWU9",
        "outputId": "5ad86f80-0f17-441a-8dee-e60255a39ab5"
      },
      "execution_count": null,
      "outputs": [
        {
          "output_type": "stream",
          "name": "stdout",
          "text": [
            "[50 60 70 80 90 100]\n"
          ]
        }
      ]
    },
    {
      "cell_type": "code",
      "source": [
        "print(np.zeros(7,dtype=float))\n",
        "print(np.ones(7,dtype=float))\n",
        "'''\n",
        "Importance of this function: Used for computers help\n",
        "\n",
        "'''"
      ],
      "metadata": {
        "colab": {
          "base_uri": "https://localhost:8080/",
          "height": 70
        },
        "id": "byIPuXUfCsZe",
        "outputId": "ff69d220-b3c3-441c-8006-42cbb3481b59"
      },
      "execution_count": null,
      "outputs": [
        {
          "output_type": "stream",
          "name": "stdout",
          "text": [
            "[0. 0. 0. 0. 0. 0. 0.]\n",
            "[1. 1. 1. 1. 1. 1. 1.]\n"
          ]
        },
        {
          "output_type": "execute_result",
          "data": {
            "text/plain": [
              "'\\nImportance of this function: Used for computers help\\n\\n'"
            ],
            "application/vnd.google.colaboratory.intrinsic+json": {
              "type": "string"
            }
          },
          "metadata": {},
          "execution_count": 16
        }
      ]
    },
    {
      "cell_type": "code",
      "source": [
        "#Identity matrix: A matrix where the main diagonal elements are one and the rest are zeros\n",
        "np.identity(4,dtype=object)"
      ],
      "metadata": {
        "colab": {
          "base_uri": "https://localhost:8080/"
        },
        "id": "jQ75QxakDD9Q",
        "outputId": "74c4cb4a-9b38-4631-c5d2-27c9c8ea520f"
      },
      "execution_count": null,
      "outputs": [
        {
          "output_type": "execute_result",
          "data": {
            "text/plain": [
              "array([[1, 0, 0, 0],\n",
              "       [0, 1, 0, 0],\n",
              "       [0, 0, 1, 0],\n",
              "       [0, 0, 0, 1]], dtype=object)"
            ]
          },
          "metadata": {},
          "execution_count": 17
        }
      ]
    },
    {
      "cell_type": "code",
      "source": [
        "import numpy as np\n",
        "np.eye(4, k=-1, dtype=object) #K is the offset value which can be specified in the \"eye\" method"
      ],
      "metadata": {
        "colab": {
          "base_uri": "https://localhost:8080/"
        },
        "id": "GxvQUDeiEaam",
        "outputId": "6b4ce876-f994-48e1-a351-7d3f63f61d63"
      },
      "execution_count": null,
      "outputs": [
        {
          "output_type": "execute_result",
          "data": {
            "text/plain": [
              "array([[0, 0, 0, 0],\n",
              "       [1, 0, 0, 0],\n",
              "       [0, 1, 0, 0],\n",
              "       [0, 0, 1, 0]], dtype=object)"
            ]
          },
          "metadata": {},
          "execution_count": 18
        }
      ]
    },
    {
      "cell_type": "code",
      "source": [
        "orig = np.array([10,32,36,44,4,55])\n",
        "\n",
        "#Converting 1D Array to 2D Array\n",
        "print('Original Array ',orig)\n",
        "#reshape\n",
        "#Factors of the number of values in the array are the only numbers that can be used to specifiy things in the reshape function\n",
        "reshaped = orig.reshape(3,2) #Number of lists and the number of values in each list is what the split up specifies\n",
        "print('Reshaped Array\\n',reshaped)"
      ],
      "metadata": {
        "colab": {
          "base_uri": "https://localhost:8080/"
        },
        "id": "c8jERMVIIqHb",
        "outputId": "bc15e840-3cfd-4561-d76b-58707296bdb6"
      },
      "execution_count": null,
      "outputs": [
        {
          "output_type": "stream",
          "name": "stdout",
          "text": [
            "Original Array  [10 32 36 44  4 55]\n",
            "Reshaped Array\n",
            " [[10 32]\n",
            " [36 44]\n",
            " [ 4 55]]\n"
          ]
        }
      ]
    },
    {
      "cell_type": "code",
      "source": [
        "lis = [34,5,6,2,4,99,10]\n",
        "arr = np.array(lis)\n",
        "rearr = arr.reshape(1,7)\n",
        "print(rearr)\n",
        "print(rearr.ndim)\n",
        "rearr1 = arr.reshape(7,1)\n",
        "print()\n",
        "print(rearr1)\n",
        "print(rearr1.ndim)"
      ],
      "metadata": {
        "colab": {
          "base_uri": "https://localhost:8080/"
        },
        "id": "jrORJcqhJlhB",
        "outputId": "b0b7bf6b-ced0-4727-cf83-3019aafbb430"
      },
      "execution_count": null,
      "outputs": [
        {
          "output_type": "stream",
          "name": "stdout",
          "text": [
            "[[34  5  6  2  4 99 10]]\n",
            "2\n",
            "\n",
            "[[34]\n",
            " [ 5]\n",
            " [ 6]\n",
            " [ 2]\n",
            " [ 4]\n",
            " [99]\n",
            " [10]]\n",
            "2\n"
          ]
        }
      ]
    },
    {
      "cell_type": "code",
      "source": [
        "liz = [1,2,3,4,5,6,7,8,9,10]\n",
        "#Factors of 10 (number of values in liz): 5*2,2*5,1*10,10*1\n",
        "lizz = np.array(liz)\n",
        "reliz = lizz.reshape(5,2)\n",
        "print(reliz)"
      ],
      "metadata": {
        "colab": {
          "base_uri": "https://localhost:8080/"
        },
        "id": "Wxx_zrsRKUdZ",
        "outputId": "0d064770-878f-40a0-c707-3d6da29cb642"
      },
      "execution_count": null,
      "outputs": [
        {
          "output_type": "stream",
          "name": "stdout",
          "text": [
            "[[ 1  2]\n",
            " [ 3  4]\n",
            " [ 5  6]\n",
            " [ 7  8]\n",
            " [ 9 10]]\n"
          ]
        }
      ]
    },
    {
      "cell_type": "code",
      "source": [
        "#Converting 1D Array to 3D Array\n",
        "l1 = [2,3,4,6,7,8,10,11,78,98,90,13]\n",
        "arli = np.array(l1)\n",
        "rearli = arli.reshape(3,2,2)\n",
        "print(rearli)"
      ],
      "metadata": {
        "colab": {
          "base_uri": "https://localhost:8080/"
        },
        "id": "mGEJUGE_K6nB",
        "outputId": "eb8278e9-fbf1-490b-aed3-af19ddcaa4c7"
      },
      "execution_count": null,
      "outputs": [
        {
          "output_type": "stream",
          "name": "stdout",
          "text": [
            "[[[ 2  3]\n",
            "  [ 4  6]]\n",
            "\n",
            " [[ 7  8]\n",
            "  [10 11]]\n",
            "\n",
            " [[78 98]\n",
            "  [90 13]]]\n"
          ]
        }
      ]
    },
    {
      "cell_type": "code",
      "source": [
        "l2 = [2,3,4,6,7,8,10,11,78,98,90,13,55,100]\n",
        "ne_l2 = np.array(l2)\n",
        "sh_new = ne_l2.reshape(1,7,2)\n",
        "print(sh_new)"
      ],
      "metadata": {
        "colab": {
          "base_uri": "https://localhost:8080/"
        },
        "id": "ZMeuag62L_9c",
        "outputId": "9991b453-4e34-4ca9-fb11-4e4d73e808b9"
      },
      "execution_count": null,
      "outputs": [
        {
          "output_type": "stream",
          "name": "stdout",
          "text": [
            "[[[  2   3]\n",
            "  [  4   6]\n",
            "  [  7   8]\n",
            "  [ 10  11]\n",
            "  [ 78  98]\n",
            "  [ 90  13]\n",
            "  [ 55 100]]]\n"
          ]
        }
      ]
    },
    {
      "cell_type": "code",
      "source": [
        "#Converting a 2D Array into 1D Array\n",
        "l3 = [[22,23,24],[25,26,27]]\n",
        "ar_l3 = np.array(l3)\n",
        "rez = ar_l3.reshape(6,)\n",
        "print(rez)"
      ],
      "metadata": {
        "colab": {
          "base_uri": "https://localhost:8080/"
        },
        "id": "z9rBq735MtRF",
        "outputId": "d55f5675-04e4-4f85-f227-be5471c6a138"
      },
      "execution_count": null,
      "outputs": [
        {
          "output_type": "stream",
          "name": "stdout",
          "text": [
            "[22 23 24 25 26 27]\n"
          ]
        }
      ]
    },
    {
      "cell_type": "code",
      "source": [
        "#Converting a 3 D Array into 1D Array\n",
        "l4 = [[[1,2,3],[8,9,10]],[[4,5,6],[11,12,13]]]\n",
        "az = np.array(l4)\n",
        "print('Original Dimension',az.ndim)\n",
        "res = az.reshape(12,)\n",
        "print('Reshaped Dimension',res.ndim)\n",
        "print(res)"
      ],
      "metadata": {
        "colab": {
          "base_uri": "https://localhost:8080/"
        },
        "id": "04h9EWUKNfT3",
        "outputId": "34a44780-812d-4724-8d0f-44b89abae0cb"
      },
      "execution_count": null,
      "outputs": [
        {
          "output_type": "stream",
          "name": "stdout",
          "text": [
            "Original Dimension 3\n",
            "Reshaped Dimension 1\n",
            "[ 1  2  3  8  9 10  4  5  6 11 12 13]\n"
          ]
        }
      ]
    },
    {
      "cell_type": "code",
      "source": [
        "#Converting a 2D Array to a 3D Array\n",
        "l3 = [[22,23,24],[25,26,27]]\n",
        "arr_3 = np.array(l3)\n",
        "print('Original Dimension',arr_3.ndim)\n",
        "print(arr_3)\n",
        "re_shaped = arr_3.reshape(3,2,1)\n",
        "print('\\nReshaped Dimension',re_shaped.ndim)\n",
        "print(re_shaped)"
      ],
      "metadata": {
        "colab": {
          "base_uri": "https://localhost:8080/"
        },
        "id": "wPPBT3_POZ0H",
        "outputId": "4b50417e-7db1-4f9f-8c7c-bc661fe09954"
      },
      "execution_count": null,
      "outputs": [
        {
          "output_type": "stream",
          "name": "stdout",
          "text": [
            "Original Dimension 2\n",
            "[[22 23 24]\n",
            " [25 26 27]]\n",
            "\n",
            "Reshaped Dimension 3\n",
            "[[[22]\n",
            "  [23]]\n",
            "\n",
            " [[24]\n",
            "  [25]]\n",
            "\n",
            " [[26]\n",
            "  [27]]]\n"
          ]
        }
      ]
    },
    {
      "cell_type": "code",
      "source": [
        "#Reshaping 2*4 Array into 2*2*2 Array\n",
        "ar = np.array([[10,32,34,56],[12,34,55,78]])\n",
        "res_sh = ar.reshape(2,2,2)\n",
        "print(res_sh)"
      ],
      "metadata": {
        "colab": {
          "base_uri": "https://localhost:8080/"
        },
        "id": "-scEMa7qO9xZ",
        "outputId": "83cd319d-f63f-4eb6-872e-8ad194054c0c"
      },
      "execution_count": null,
      "outputs": [
        {
          "output_type": "stream",
          "name": "stdout",
          "text": [
            "[[[10 32]\n",
            "  [34 56]]\n",
            "\n",
            " [[12 34]\n",
            "  [55 78]]]\n"
          ]
        }
      ]
    },
    {
      "cell_type": "code",
      "source": [
        "#Reshaping 2*4 Array into 4D Array\n",
        "ar = np.array([[10,32,34,56],[12,34,55,78]])\n",
        "res_sh = ar.reshape(2,2,2,1)\n",
        "print(res_sh)\n",
        "print(res_sh.ndim)"
      ],
      "metadata": {
        "colab": {
          "base_uri": "https://localhost:8080/"
        },
        "id": "Arkfqc6rQIVT",
        "outputId": "6ec7f55d-655d-4e96-aca1-4ab280516aec"
      },
      "execution_count": null,
      "outputs": [
        {
          "output_type": "stream",
          "name": "stdout",
          "text": [
            "[[[[10]\n",
            "   [32]]\n",
            "\n",
            "  [[34]\n",
            "   [56]]]\n",
            "\n",
            "\n",
            " [[[12]\n",
            "   [34]]\n",
            "\n",
            "  [[55]\n",
            "   [78]]]]\n",
            "4\n"
          ]
        }
      ]
    },
    {
      "cell_type": "code",
      "source": [
        "#If the factor isn't known, then you can specify the number of arrays that you want and place -1 next to it after a comma, it does the reshaping on it's own\n",
        "la = [[[1,2,3],[8,9,10]],[[4,5,6],[11,12,13]]]\n",
        "azla = np.array(la)\n",
        "resla = azla.reshape(3,-1)\n",
        "print('Reshaped Dimension',resla.ndim)\n",
        "print(resla)"
      ],
      "metadata": {
        "colab": {
          "base_uri": "https://localhost:8080/"
        },
        "id": "MW-Rj3HQQVUo",
        "outputId": "c9cc46f9-1208-4106-a4cd-3f8a47a3df7f"
      },
      "execution_count": null,
      "outputs": [
        {
          "output_type": "stream",
          "name": "stdout",
          "text": [
            "Reshaped Dimension 2\n",
            "[[ 1  2  3  8]\n",
            " [ 9 10  4  5]\n",
            " [ 6 11 12 13]]\n"
          ]
        }
      ]
    },
    {
      "cell_type": "code",
      "source": [
        "#Accessing Array Elements\n",
        "'''\n",
        "1) Slicing\n",
        "2) Integer Array Indexing\n",
        "3) Boolean Array Indexing\n",
        "'''\n",
        "import numpy as np\n",
        "arrz = np.array([1,2,3,4,5,6])\n",
        "arrz"
      ],
      "metadata": {
        "id": "F7dlXrb5RgPP",
        "colab": {
          "base_uri": "https://localhost:8080/"
        },
        "outputId": "d65b2f0f-86fc-47a8-a6cf-0e70d34550e5"
      },
      "execution_count": null,
      "outputs": [
        {
          "output_type": "execute_result",
          "data": {
            "text/plain": [
              "array([1, 2, 3, 4, 5, 6])"
            ]
          },
          "metadata": {},
          "execution_count": 30
        }
      ]
    },
    {
      "cell_type": "code",
      "source": [
        "print('Array indexing: ',arrz[3])"
      ],
      "metadata": {
        "colab": {
          "base_uri": "https://localhost:8080/"
        },
        "id": "vg7y_vNmoUDA",
        "outputId": "b8676d33-1c7c-4fbf-ecc8-62f75ee69ead"
      },
      "execution_count": null,
      "outputs": [
        {
          "output_type": "stream",
          "name": "stdout",
          "text": [
            "Array indexing:  4\n"
          ]
        }
      ]
    },
    {
      "cell_type": "code",
      "source": [
        "arrz1 = np.array([[1,2,3],[4,5,6],[7,8,9]])\n",
        "print('Array Indexing: ',arrz1[1][1])\n",
        "print('Array Slicing: ',arrz1[0:3,1]) #Gives the columns as the output\n",
        "print('Array Slicing: ',arrz1[0:3,0]) #Gives the columns as the output\n",
        "print(arrz1)"
      ],
      "metadata": {
        "colab": {
          "base_uri": "https://localhost:8080/"
        },
        "id": "RaUUrhv3oe96",
        "outputId": "5151b5c8-56d6-49a7-b281-c4ca8beaef5c"
      },
      "execution_count": null,
      "outputs": [
        {
          "output_type": "stream",
          "name": "stdout",
          "text": [
            "Array Indexing:  5\n",
            "Array Slicing:  [2 5 8]\n",
            "Array Slicing:  [1 4 7]\n",
            "[[1 2 3]\n",
            " [4 5 6]\n",
            " [7 8 9]]\n"
          ]
        }
      ]
    },
    {
      "cell_type": "code",
      "source": [
        "#Integer Array Indexing\n",
        "arrz1 = np.array([[1,2,3],[4,5,6],[7,8,9]])\n",
        "print('Accessing value by integer value indexing: ',arrz1[[0,1,2],[0,1,2]])\n",
        "print(arrz1) #The first box specifies the rows & the second specifies the columns, such that the column element is respective to the row\n"
      ],
      "metadata": {
        "colab": {
          "base_uri": "https://localhost:8080/"
        },
        "id": "kuP9yOCAorl1",
        "outputId": "8cdc963f-8c81-43c7-b4df-c8b453760474"
      },
      "execution_count": null,
      "outputs": [
        {
          "output_type": "stream",
          "name": "stdout",
          "text": [
            "Accessing value by integer value indexing:  [1 5 9]\n",
            "[[1 2 3]\n",
            " [4 5 6]\n",
            " [7 8 9]]\n"
          ]
        }
      ]
    },
    {
      "cell_type": "code",
      "source": [
        "print('Accessing value by integer value indexing: ',arrz1[1,2])\n",
        "print(arrz1) #The first box specifies the rows & the second specifies the columns, such that the column element is respective to the row"
      ],
      "metadata": {
        "colab": {
          "base_uri": "https://localhost:8080/"
        },
        "id": "dJ1gL2nzpFwE",
        "outputId": "4cce2e2e-ce50-440e-8698-9433062f3f57"
      },
      "execution_count": null,
      "outputs": [
        {
          "output_type": "stream",
          "name": "stdout",
          "text": [
            "Accessing value by integer value indexing:  6\n",
            "[[1 2 3]\n",
            " [4 5 6]\n",
            " [7 8 9]]\n"
          ]
        }
      ]
    },
    {
      "cell_type": "code",
      "source": [
        "#Boolean Array Indexing\n",
        "arr3 = np.array( [[1,2,3,4],\n",
        "        [5,6,7,8],\n",
        "        [9,10,11,12]])\n",
        "condition = arr3 > 10\n",
        "print(condition)\n",
        "print('Accessing the true values of the condition ',arr3[condition])"
      ],
      "metadata": {
        "colab": {
          "base_uri": "https://localhost:8080/"
        },
        "id": "sVGXcoshrPbZ",
        "outputId": "4536f51b-cc80-4d77-fcc4-dc86e308f44c"
      },
      "execution_count": null,
      "outputs": [
        {
          "output_type": "stream",
          "name": "stdout",
          "text": [
            "[[False False False False]\n",
            " [False False False False]\n",
            " [False False  True  True]]\n",
            "Accessing the true values of the condition  [11 12]\n"
          ]
        }
      ]
    },
    {
      "cell_type": "code",
      "source": [
        "import numpy as np\n",
        "students_array = np.array([['Student_1', 59, 64, 94, 87, 81],\n",
        "\n",
        "                          ['Student_2', 8, 56, 18, 58, 69],\n",
        "\n",
        "                          ['Student_3', 7, 20, 60, 63, 42],\n",
        "\n",
        "                          ['Student_4', 71, 94, 71, 68, 13],\n",
        "\n",
        "                          ['Student_5', 89, 1, 16, 33, 40],\n",
        "\n",
        "                          ['Student_6', 4, 25, 48, 41, 84],\n",
        "\n",
        "                          ['Student_7', 3, 79, 46, 9, 71],\n",
        "\n",
        "                          ['Student_8', 87, 77, 75, 15, 69],\n",
        "\n",
        "                          ['Student_9', 61, 1, 48, 98, 23],\n",
        "\n",
        "                          ['Student_10', 98, 60, 24, 66, 56],\n",
        "\n",
        "                          ['Student_11', 58, 12, 75, 7, 98],\n",
        "\n",
        "                          ['Student_12', 23, 62, 6, 35, 37],\n",
        "\n",
        "                          ['Student_13', 14, 25, 87, 56, 8],\n",
        "\n",
        "                          ['Student_14', 68, 1, 81, 11, 61],\n",
        "\n",
        "\n",
        "                          ['Student_15', 11, 69, 35, 17, 66]], dtype=object)"
      ],
      "metadata": {
        "id": "gfbsh8-lrPLW"
      },
      "execution_count": null,
      "outputs": []
    },
    {
      "cell_type": "code",
      "source": [
        "#Accessing all the student names\n",
        "print('The names of the students are ',students_array[:,0])"
      ],
      "metadata": {
        "colab": {
          "base_uri": "https://localhost:8080/"
        },
        "id": "jAPwpZEXrOIz",
        "outputId": "7625b56b-d2e9-4855-f545-c049d1ae3b64"
      },
      "execution_count": null,
      "outputs": [
        {
          "output_type": "stream",
          "name": "stdout",
          "text": [
            "The names of the students are  ['Student_1' 'Student_2' 'Student_3' 'Student_4' 'Student_5' 'Student_6'\n",
            " 'Student_7' 'Student_8' 'Student_9' 'Student_10' 'Student_11'\n",
            " 'Student_12' 'Student_13' 'Student_14' 'Student_15']\n"
          ]
        }
      ]
    },
    {
      "cell_type": "code",
      "source": [
        "#Find the average of subject 1\n",
        "sub_einen = students_array[:,1]\n",
        "print(sub_einen)\n",
        "sub_einen.mean()"
      ],
      "metadata": {
        "colab": {
          "base_uri": "https://localhost:8080/"
        },
        "id": "XXfgLtKorOBk",
        "outputId": "5d938a3a-d1ac-4253-87d7-260038f88aba"
      },
      "execution_count": null,
      "outputs": [
        {
          "output_type": "stream",
          "name": "stdout",
          "text": [
            "[59 8 7 71 89 4 3 87 61 98 58 23 14 68 11]\n"
          ]
        },
        {
          "output_type": "execute_result",
          "data": {
            "text/plain": [
              "44.06666666666667"
            ]
          },
          "metadata": {},
          "execution_count": 38
        }
      ]
    },
    {
      "cell_type": "code",
      "source": [
        "#Find the average of subject 2\n",
        "sub_einen_1 = students_array[:,2]\n",
        "print(sub_einen_1)\n",
        "sub_einen_1.mean()"
      ],
      "metadata": {
        "colab": {
          "base_uri": "https://localhost:8080/"
        },
        "id": "40d7vnJHrN4c",
        "outputId": "3bcbede3-d490-4248-f577-cae98f088f11"
      },
      "execution_count": null,
      "outputs": [
        {
          "output_type": "stream",
          "name": "stdout",
          "text": [
            "[64 56 20 94 1 25 79 77 1 60 12 62 25 1 69]\n"
          ]
        },
        {
          "output_type": "execute_result",
          "data": {
            "text/plain": [
              "43.06666666666667"
            ]
          },
          "metadata": {},
          "execution_count": 39
        }
      ]
    },
    {
      "cell_type": "code",
      "source": [
        "#Find the average of student 4\n",
        "stu = students_array[3,1:]\n",
        "print(stu)\n",
        "print(stu.mean())"
      ],
      "metadata": {
        "colab": {
          "base_uri": "https://localhost:8080/"
        },
        "id": "c3EBIexWrNsz",
        "outputId": "4c560d89-2ed4-4081-be6d-7a8c549a1257"
      },
      "execution_count": null,
      "outputs": [
        {
          "output_type": "stream",
          "name": "stdout",
          "text": [
            "[71 94 71 68 13]\n",
            "63.4\n"
          ]
        }
      ]
    },
    {
      "cell_type": "code",
      "source": [
        "students_array[:,0]"
      ],
      "metadata": {
        "colab": {
          "base_uri": "https://localhost:8080/"
        },
        "id": "kM1fKBLgr7s7",
        "outputId": "d9d836a1-9e2f-475b-b3c7-6d18a77d65be"
      },
      "execution_count": null,
      "outputs": [
        {
          "output_type": "execute_result",
          "data": {
            "text/plain": [
              "array(['Student_1', 'Student_2', 'Student_3', 'Student_4', 'Student_5',\n",
              "       'Student_6', 'Student_7', 'Student_8', 'Student_9', 'Student_10',\n",
              "       'Student_11', 'Student_12', 'Student_13', 'Student_14',\n",
              "       'Student_15'], dtype=object)"
            ]
          },
          "metadata": {},
          "execution_count": 41
        }
      ]
    },
    {
      "cell_type": "code",
      "source": [
        "#Find all student names where subject_1 marks is greater than subject_2\n",
        "sub_1 = students_array[:,1]\n",
        "sub_2 = students_array[:,2]\n",
        "\n",
        "condition = sub_1 > sub_2\n",
        "\n",
        "print(\"Total student count where subject_1 marks is greater than subject_2: \",condition.sum())\n",
        "\n",
        "#Syntax to access array elements: var_name[rows,columns]\n",
        "\n",
        "print(\"Names of students where subject_1 marks is greater than subject_2:\\n\",students_array[condition,:3])"
      ],
      "metadata": {
        "colab": {
          "base_uri": "https://localhost:8080/"
        },
        "id": "ncZeW3chsbI-",
        "outputId": "3363ce16-fc1c-4c45-f067-da73ee726464"
      },
      "execution_count": null,
      "outputs": [
        {
          "output_type": "stream",
          "name": "stdout",
          "text": [
            "Total student count where subject_1 marks is greater than subject_2:  6\n",
            "Names of students where subject_1 marks is greater than subject_2:\n",
            " [['Student_5' 89 1]\n",
            " ['Student_8' 87 77]\n",
            " ['Student_9' 61 1]\n",
            " ['Student_10' 98 60]\n",
            " ['Student_11' 58 12]\n",
            " ['Student_14' 68 1]]\n"
          ]
        }
      ]
    },
    {
      "cell_type": "code",
      "source": [
        "stu_1 = students_array[0:10,1:]\n",
        "print(stu_1)\n",
        "print(stu_1.mean(axis = 1)) #Row wise average\n",
        "print(stu_1.mean(axis = 0)) #Column wise average\n",
        "#Mean parameter has an 'axis' parameter inside it: If axis = 0, then we get the mean column-wise else, we get mean row-wise"
      ],
      "metadata": {
        "colab": {
          "base_uri": "https://localhost:8080/"
        },
        "id": "DtGDiPoPtE7n",
        "outputId": "49840171-dfee-41e3-eb11-6b9fc41108ae"
      },
      "execution_count": null,
      "outputs": [
        {
          "output_type": "stream",
          "name": "stdout",
          "text": [
            "[[59 64 94 87 81]\n",
            " [8 56 18 58 69]\n",
            " [7 20 60 63 42]\n",
            " [71 94 71 68 13]\n",
            " [89 1 16 33 40]\n",
            " [4 25 48 41 84]\n",
            " [3 79 46 9 71]\n",
            " [87 77 75 15 69]\n",
            " [61 1 48 98 23]\n",
            " [98 60 24 66 56]]\n",
            "[77.0 41.8 38.4 63.4 35.8 40.4 41.6 64.6 46.2 60.8]\n",
            "[48.7 47.7 50.0 53.8 54.8]\n"
          ]
        }
      ]
    },
    {
      "cell_type": "code",
      "source": [
        "#Find the subject average of first 5 students\n",
        "stu_2 = students_array[0:5,1:]\n",
        "print(stu_2)\n",
        "print('\\nThe subject average of first 5 students is:  ',stu_2.mean(axis=1))"
      ],
      "metadata": {
        "colab": {
          "base_uri": "https://localhost:8080/"
        },
        "id": "yS18zQJ9t3k2",
        "outputId": "f2a32ca6-c690-4ccd-8e04-8fbb4f5fac73"
      },
      "execution_count": null,
      "outputs": [
        {
          "output_type": "stream",
          "name": "stdout",
          "text": [
            "[[59 64 94 87 81]\n",
            " [8 56 18 58 69]\n",
            " [7 20 60 63 42]\n",
            " [71 94 71 68 13]\n",
            " [89 1 16 33 40]]\n",
            "\n",
            "The subject average of first 5 students is:   [77.0 41.8 38.4 63.4 35.8]\n"
          ]
        }
      ]
    },
    {
      "cell_type": "code",
      "source": [
        "#Find the student average of students 5 to student 14\n",
        "stu_3 = students_array[4:14,1:]\n",
        "print(stu_3)\n",
        "print('\\nThe subject average of first 5 students upto student number 14th is:  ',stu_3.mean(axis=0))"
      ],
      "metadata": {
        "colab": {
          "base_uri": "https://localhost:8080/"
        },
        "id": "YFJxCVu9xstG",
        "outputId": "8bb0297a-27db-4282-8fef-5f245a3a9284"
      },
      "execution_count": null,
      "outputs": [
        {
          "output_type": "stream",
          "name": "stdout",
          "text": [
            "[[89 1 16 33 40]\n",
            " [4 25 48 41 84]\n",
            " [3 79 46 9 71]\n",
            " [87 77 75 15 69]\n",
            " [61 1 48 98 23]\n",
            " [98 60 24 66 56]\n",
            " [58 12 75 7 98]\n",
            " [23 62 6 35 37]\n",
            " [14 25 87 56 8]\n",
            " [68 1 81 11 61]]\n",
            "\n",
            "The subject average of first 5 students upto student number 14th is:   [50.5 34.3 50.6 37.1 54.7]\n"
          ]
        }
      ]
    },
    {
      "cell_type": "code",
      "source": [
        "#Find all the student names who scored higher than student_15 in both subject_1 and subject_2\n",
        "sub_1 = students_array[:,1]\n",
        "sub_2 = students_array[:,2]\n",
        "student_15_sub1_marks = students_array[14,1]\n",
        "student_15_sub2_marks = students_array[14,2]\n",
        "condition_1 = sub_1 > student_15_sub1_marks\n",
        "condition_2 = sub_2 > student_15_sub2_marks\n",
        "\n",
        "merged_condition = (condition_1 & condition_2)\n",
        "\n",
        "print('Student names that satisfy the condition: ',students_array[merged_condition])"
      ],
      "metadata": {
        "colab": {
          "base_uri": "https://localhost:8080/"
        },
        "id": "xaAgk5X0zYVK",
        "outputId": "08d4ca3b-1c75-45ac-fba5-7fce98ebd13e"
      },
      "execution_count": null,
      "outputs": [
        {
          "output_type": "stream",
          "name": "stdout",
          "text": [
            "Student names that satisfy the condition:  [['Student_4' 71 94 71 68 13]\n",
            " ['Student_8' 87 77 75 15 69]]\n"
          ]
        }
      ]
    },
    {
      "cell_type": "code",
      "source": [
        "#Find all the student names who scored higher than student_15 in either subject_1 or subject_2\n",
        "sub_1 = students_array[:,1]\n",
        "sub_2 = students_array[:,2]\n",
        "student_15_sub1_marks = students_array[14,1]\n",
        "student_15_sub2_marks = students_array[14,2]\n",
        "condition_1 = sub_1 > student_15_sub1_marks\n",
        "condition_2 = sub_2 > student_15_sub2_marks\n",
        "\n",
        "merged_condition = (condition_1 | condition_2)\n",
        "\n",
        "print('Student names that satisfy the condition: ',students_array[merged_condition,0])"
      ],
      "metadata": {
        "colab": {
          "base_uri": "https://localhost:8080/"
        },
        "id": "cnHX0byf2TWu",
        "outputId": "9cd09199-2ae1-4c55-a14c-1e0662fe27d2"
      },
      "execution_count": null,
      "outputs": [
        {
          "output_type": "stream",
          "name": "stdout",
          "text": [
            "Student names that satisfy the condition:  ['Student_1' 'Student_4' 'Student_5' 'Student_7' 'Student_8' 'Student_9'\n",
            " 'Student_10' 'Student_11' 'Student_12' 'Student_13' 'Student_14']\n"
          ]
        }
      ]
    },
    {
      "cell_type": "code",
      "source": [
        "#Where condition in numpy\n",
        "arrs = np.array([1,2,3,4,5])\n",
        "cond = np.where(arrs > 2)\n",
        "print(cond) #Gives the indices of the specific values\n",
        "arrs[cond] #Gives the exact values"
      ],
      "metadata": {
        "id": "T1wjI_j02iAB",
        "colab": {
          "base_uri": "https://localhost:8080/"
        },
        "outputId": "e3a9a4b2-d61f-4b3a-bfeb-6ae01d3ff8ac"
      },
      "execution_count": null,
      "outputs": [
        {
          "output_type": "stream",
          "name": "stdout",
          "text": [
            "(array([2, 3, 4]),)\n"
          ]
        },
        {
          "output_type": "execute_result",
          "data": {
            "text/plain": [
              "array([3, 4, 5])"
            ]
          },
          "metadata": {},
          "execution_count": 48
        }
      ]
    },
    {
      "cell_type": "code",
      "source": [
        "subj = students_array[:,1]\n",
        "print(\"Marks greater than 50 \",np.where(subj>50))"
      ],
      "metadata": {
        "colab": {
          "base_uri": "https://localhost:8080/"
        },
        "id": "eHAb4HW-2W86",
        "outputId": "6b4e3d2d-5448-41f3-a17d-77ac41ca75e7"
      },
      "execution_count": null,
      "outputs": [
        {
          "output_type": "stream",
          "name": "stdout",
          "text": [
            "Marks greater than 50  (array([ 0,  3,  4,  7,  8,  9, 10, 13]),)\n"
          ]
        }
      ]
    },
    {
      "cell_type": "code",
      "source": [
        "                        # Age, Employment Status, Marital Status, Balance, Personal Loan, Car Loan, Connection, Month of Joining\n",
        "import numpy as np\n",
        "banking_array = np.array([[30.0, 'unemployed', 'married', 1787.0, 'no', 'no', 'cellular','oct'],\n",
        "\n",
        "       [33.0, 'services', 'married', 4789.0, 'yes', 'yes', 'cellular','may'],\n",
        "\n",
        "       [35.0, 'management', 'single', 1350.0, 'yes', 'no', 'cellular','apr'],\n",
        "\n",
        "       [30.0, 'management', 'married', 1476.0, 'yes', 'yes', 'unknown','jun'],\n",
        "\n",
        "       [59.0, 'blue-collar', 'married', 0.0, 'yes', 'no', 'unknown','may'],\n",
        "\n",
        "       [35.0, 'management', 'single', 747.0, 'no', 'no', 'cellular','feb'],\n",
        "\n",
        "       [36.0, 'self-employed', 'married', 307.0, 'yes', 'no', 'cellular','may'],\n",
        "\n",
        "       [39.0, 'technician', 'married', 147.0, 'yes', 'no', 'cellular','may'],\n",
        "\n",
        "       [41.0, 'entrepreneur', 'married', 221.0, 'yes', 'no', 'unknown','may'],\n",
        "\n",
        "       [43.0, 'services', 'married', -88.0, 'yes', 'yes', 'cellular','apr'],\n",
        "\n",
        "       [39.0, 'services', 'married', 9374.0, 'yes', 'no', 'unknown','may'],\n",
        "\n",
        "       [43.0, 'admin.', 'married', 264.0, 'yes', 'no', 'cellular', 'apr'],\n",
        "\n",
        "       [36.0, 'technician', 'married', 1109.0, 'no', 'no', 'cellular','aug'],\n",
        "\n",
        "       [20.0, 'student', 'single', 502.0, 'no', 'no', 'cellular', 'apr'],\n",
        "\n",
        "       [31.0, 'blue-collar', 'married', 360.0, 'yes', 'yes', 'cellular','jan'],\n",
        "\n",
        "       [40.0, 'management', 'married', 194.0, 'no', 'yes', 'cellular','aug'],\n",
        "\n",
        "       [56.0, 'technician', 'married', 4073.0, 'no', 'no', 'cellular','aug'],\n",
        "\n",
        "       [37.0, 'admin.', 'single', 2317.0, 'yes', 'no', 'cellular', 'apr'],\n",
        "\n",
        "       [25.0, 'blue-collar', 'single', -221.0, 'yes', 'no', 'unknown','may'],\n",
        "\n",
        "       [31.0, 'services', 'married', 132.0, 'no', 'no', 'cellular','jul']], dtype=object)"
      ],
      "metadata": {
        "id": "kzIOumXP2ycJ"
      },
      "execution_count": null,
      "outputs": []
    },
    {
      "cell_type": "code",
      "source": [
        "#Finding the unique value from the DS\n",
        "emp = banking_array[:,1]\n",
        "cond = np.unique(emp)\n",
        "cond"
      ],
      "metadata": {
        "colab": {
          "base_uri": "https://localhost:8080/"
        },
        "id": "DolP8E6U37k9",
        "outputId": "e7c5019a-92d6-4568-e714-e6a563477f2a"
      },
      "execution_count": null,
      "outputs": [
        {
          "output_type": "execute_result",
          "data": {
            "text/plain": [
              "array(['admin.', 'blue-collar', 'entrepreneur', 'management',\n",
              "       'self-employed', 'services', 'student', 'technician', 'unemployed'],\n",
              "      dtype=object)"
            ]
          },
          "metadata": {},
          "execution_count": 51
        }
      ]
    },
    {
      "cell_type": "code",
      "source": [
        "#Find the customers who has taken a personal loan\n",
        "loan = banking_array[:,4]\n",
        "condi = (loan=='yes')\n",
        "np.count_nonzero(condi)"
      ],
      "metadata": {
        "colab": {
          "base_uri": "https://localhost:8080/"
        },
        "id": "aSAe5Tw35GnH",
        "outputId": "b8a78990-2722-43c3-d8f3-da0ac8e7b94d"
      },
      "execution_count": null,
      "outputs": [
        {
          "output_type": "execute_result",
          "data": {
            "text/plain": [
              "13"
            ]
          },
          "metadata": {},
          "execution_count": 52
        }
      ]
    },
    {
      "cell_type": "code",
      "source": [
        "#Find the customers who has taken a car loan\n",
        "cloan = banking_array[:,5]\n",
        "c = (cloan=='yes')\n",
        "np.count_nonzero(c)"
      ],
      "metadata": {
        "colab": {
          "base_uri": "https://localhost:8080/"
        },
        "id": "X-5gbObr5rQK",
        "outputId": "3795921d-e52b-498f-8f9f-c1f5e472804a"
      },
      "execution_count": null,
      "outputs": [
        {
          "output_type": "execute_result",
          "data": {
            "text/plain": [
              "5"
            ]
          },
          "metadata": {},
          "execution_count": 53
        }
      ]
    },
    {
      "cell_type": "code",
      "source": [
        "#Find the count of customers who have connection\n",
        "connection = banking_array[:,6] #Or can be written as connection = banking_array[:,-2]\n",
        "con = (connection=='cellular')\n",
        "np.count_nonzero(con)"
      ],
      "metadata": {
        "colab": {
          "base_uri": "https://localhost:8080/"
        },
        "id": "zg4U7P_36rJr",
        "outputId": "9b4703bb-8095-4865-9db5-abdac8257898"
      },
      "execution_count": null,
      "outputs": [
        {
          "output_type": "execute_result",
          "data": {
            "text/plain": [
              "15"
            ]
          },
          "metadata": {},
          "execution_count": 54
        }
      ]
    },
    {
      "cell_type": "code",
      "source": [
        "#Find the count of customers who're married and has a personal loan\n",
        "loan = banking_array[:,4]\n",
        "mar = banking_array[:,2]\n",
        "cons = (loan=='yes') & (mar=='married')\n",
        "np.count_nonzero(cons)"
      ],
      "metadata": {
        "colab": {
          "base_uri": "https://localhost:8080/"
        },
        "id": "d45_XZUr7Slc",
        "outputId": "ef3f10cd-1d6e-4d66-a9b7-ae8bc12d388d"
      },
      "execution_count": null,
      "outputs": [
        {
          "output_type": "execute_result",
          "data": {
            "text/plain": [
              "10"
            ]
          },
          "metadata": {},
          "execution_count": 55
        }
      ]
    },
    {
      "cell_type": "code",
      "source": [
        "#Find the count of customers who have connection and has a car loan\n",
        "connection = banking_array[:,6]\n",
        "can = (connection=='cellular') & (cloan=='yes')\n",
        "np.count_nonzero(can)"
      ],
      "metadata": {
        "colab": {
          "base_uri": "https://localhost:8080/"
        },
        "id": "gforBuAH8krc",
        "outputId": "3486343e-2270-40bb-b204-8907c65dbdfa"
      },
      "execution_count": null,
      "outputs": [
        {
          "output_type": "execute_result",
          "data": {
            "text/plain": [
              "4"
            ]
          },
          "metadata": {},
          "execution_count": 56
        }
      ]
    },
    {
      "cell_type": "code",
      "source": [
        "#Find the count of customers whose age is greater than 25 and less than 40\n",
        "age = banking_array[:,0]\n",
        "condition = (age>25.0) & (age<40.0)\n",
        "np.count_nonzero(condition)"
      ],
      "metadata": {
        "colab": {
          "base_uri": "https://localhost:8080/"
        },
        "id": "sihRItGB86D4",
        "outputId": "88f627ff-8ad1-4272-9f2b-cc6dbd6d962e"
      },
      "execution_count": null,
      "outputs": [
        {
          "output_type": "execute_result",
          "data": {
            "text/plain": [
              "12"
            ]
          },
          "metadata": {},
          "execution_count": 57
        }
      ]
    },
    {
      "cell_type": "code",
      "source": [
        "#Find the count of customers whose age is greater than 25 and less than 40, also find their bank balances and their sum total\n",
        "age = banking_array[:,0]\n",
        "condition = (age>25.0) & (age<40.0)\n",
        "np.count_nonzero(condition)\n",
        "bal = banking_array[:,3]\n",
        "total = bal[condition]\n",
        "print(total,'\\n')\n",
        "print('The total balance is',total.sum())"
      ],
      "metadata": {
        "colab": {
          "base_uri": "https://localhost:8080/"
        },
        "id": "psvbeHSU9R8X",
        "outputId": "5d5655fd-74e2-4d8d-f244-ce79a6d0f4fa"
      },
      "execution_count": null,
      "outputs": [
        {
          "output_type": "stream",
          "name": "stdout",
          "text": [
            "[1787.0 4789.0 1350.0 1476.0 747.0 307.0 147.0 9374.0 1109.0 360.0 2317.0\n",
            " 132.0] \n",
            "\n",
            "The total balance is 23895.0\n"
          ]
        }
      ]
    },
    {
      "cell_type": "code",
      "source": [
        "#Find the count of customers whose age is greater than 25 and less than 40, also find their bank balances and their sum total\n",
        "age = banking_array[:,0]\n",
        "condition = (age>35.0) & (age<50.0)\n",
        "np.count_nonzero(condition)\n",
        "bal = banking_array[:,3]\n",
        "total = bal[condition]\n",
        "print(total,'\\n')\n",
        "print('The total balance is',total.sum())"
      ],
      "metadata": {
        "colab": {
          "base_uri": "https://localhost:8080/"
        },
        "id": "70GC-aCn-Eai",
        "outputId": "76c490e6-23e7-4233-94b1-08b2c6d54937"
      },
      "execution_count": null,
      "outputs": [
        {
          "output_type": "stream",
          "name": "stdout",
          "text": [
            "[307.0 147.0 221.0 -88.0 9374.0 264.0 1109.0 194.0 2317.0] \n",
            "\n",
            "The total balance is 13845.0\n"
          ]
        }
      ]
    },
    {
      "cell_type": "code",
      "source": [
        "#Find the count of customers in management that're married and have a cellular connection\n",
        "con1 = (banking_array[:,1]=='management')\n",
        "con2 = (banking_array[:,2]=='married')\n",
        "con3 = (banking_array[:,-2]=='cellular')\n",
        "\n",
        "final_con = con1 & con2 & con3\n",
        "np.count_nonzero(final_con)"
      ],
      "metadata": {
        "colab": {
          "base_uri": "https://localhost:8080/"
        },
        "id": "uvG6OF9-_HOT",
        "outputId": "da341cee-e5be-428b-a4ac-cb72a7bac4e4"
      },
      "execution_count": null,
      "outputs": [
        {
          "output_type": "execute_result",
          "data": {
            "text/plain": [
              "1"
            ]
          },
          "metadata": {},
          "execution_count": 60
        }
      ]
    },
    {
      "cell_type": "code",
      "source": [
        "#Find the count of customers who're single and has a bank balance greater than average balance of customers\n",
        "con4 = (banking_array[:,2]=='single')\n",
        "avg = banking_array[:,3]\n",
        "print(avg,'\\n')\n",
        "avg_bal = avg.mean()\n",
        "print(avg_bal,'\\n')\n",
        "con5 = (banking_array[:,3]>avg_bal)\n",
        "print(banking_array[con5],'\\n')\n",
        "#print(con5,'\\n')\n",
        "final = con4 & con5\n",
        "np.count_nonzero(final)"
      ],
      "metadata": {
        "colab": {
          "base_uri": "https://localhost:8080/"
        },
        "id": "9NUuxwnk_oCU",
        "outputId": "9bb6d01e-5d6a-4d40-887a-0ca53d13c495"
      },
      "execution_count": null,
      "outputs": [
        {
          "output_type": "stream",
          "name": "stdout",
          "text": [
            "[1787.0 4789.0 1350.0 1476.0 0.0 747.0 307.0 147.0 221.0 -88.0 9374.0\n",
            " 264.0 1109.0 502.0 360.0 194.0 4073.0 2317.0 -221.0 132.0] \n",
            "\n",
            "1442.0 \n",
            "\n",
            "[[30.0 'unemployed' 'married' 1787.0 'no' 'no' 'cellular' 'oct']\n",
            " [33.0 'services' 'married' 4789.0 'yes' 'yes' 'cellular' 'may']\n",
            " [30.0 'management' 'married' 1476.0 'yes' 'yes' 'unknown' 'jun']\n",
            " [39.0 'services' 'married' 9374.0 'yes' 'no' 'unknown' 'may']\n",
            " [56.0 'technician' 'married' 4073.0 'no' 'no' 'cellular' 'aug']\n",
            " [37.0 'admin.' 'single' 2317.0 'yes' 'no' 'cellular' 'apr']] \n",
            "\n"
          ]
        },
        {
          "output_type": "execute_result",
          "data": {
            "text/plain": [
              "1"
            ]
          },
          "metadata": {},
          "execution_count": 84
        }
      ]
    },
    {
      "cell_type": "code",
      "source": [
        "#Find people who're married and how many are single\n",
        "mar = banking_array[:,2]\n",
        "su = (mar=='married')\n",
        "print('People who are married',su.sum())\n",
        "suz = (mar=='single')\n",
        "print('People who are single ',suz.sum())"
      ],
      "metadata": {
        "id": "JQbJuTSzBRtw",
        "colab": {
          "base_uri": "https://localhost:8080/"
        },
        "outputId": "637ace51-847d-4b9a-e298-d27b58bdccd7"
      },
      "execution_count": null,
      "outputs": [
        {
          "output_type": "stream",
          "name": "stdout",
          "text": [
            "People who are married 15\n",
            "People who are single  5\n"
          ]
        }
      ]
    },
    {
      "cell_type": "code",
      "source": [
        "#Find people who're married and how many are single (easy & straightforward method)\n",
        "mar = banking_array[:,2]\n",
        "np.unique(mar, return_counts = True) #Gives us the count of the unique values in the array's rows/columns"
      ],
      "metadata": {
        "colab": {
          "base_uri": "https://localhost:8080/"
        },
        "id": "GYLU4xmW_-B5",
        "outputId": "365cdad7-a005-43ac-bcd0-e019207159cd"
      },
      "execution_count": null,
      "outputs": [
        {
          "output_type": "execute_result",
          "data": {
            "text/plain": [
              "(array(['married', 'single'], dtype=object), array([15,  5]))"
            ]
          },
          "metadata": {},
          "execution_count": 69
        }
      ]
    },
    {
      "cell_type": "code",
      "source": [
        "#Finding the people in various professions\n",
        "prof = (banking_array[:,1])\n",
        "np.unique(prof, return_counts = True)"
      ],
      "metadata": {
        "colab": {
          "base_uri": "https://localhost:8080/"
        },
        "id": "uQaXpULiBKQY",
        "outputId": "3911f0b5-e212-47a5-ccbf-79bff712d29e"
      },
      "execution_count": null,
      "outputs": [
        {
          "output_type": "execute_result",
          "data": {
            "text/plain": [
              "(array(['admin.', 'blue-collar', 'entrepreneur', 'management',\n",
              "        'self-employed', 'services', 'student', 'technician', 'unemployed'],\n",
              "       dtype=object),\n",
              " array([2, 3, 1, 4, 1, 4, 1, 3, 1]))"
            ]
          },
          "metadata": {},
          "execution_count": 72
        }
      ]
    },
    {
      "cell_type": "code",
      "source": [
        "#Month that has the highest joining\n",
        "month = banking_array[:,-1]\n",
        "np.unique(month, return_counts = True)"
      ],
      "metadata": {
        "colab": {
          "base_uri": "https://localhost:8080/"
        },
        "id": "QTvMnkN7Bqtx",
        "outputId": "77a6cf75-ba5d-4e15-828f-911bb9d5ec32"
      },
      "execution_count": null,
      "outputs": [
        {
          "output_type": "execute_result",
          "data": {
            "text/plain": [
              "(array(['apr', 'aug', 'feb', 'jan', 'jul', 'jun', 'may', 'oct'],\n",
              "       dtype=object),\n",
              " array([5, 3, 1, 1, 1, 1, 7, 1]))"
            ]
          },
          "metadata": {},
          "execution_count": 79
        }
      ]
    },
    {
      "cell_type": "code",
      "source": [
        "#\n",
        "age = (banking_array[:,0])\n",
        "bal = (banking_array[:,3])\n",
        "con = (age>=55) & (bal>2000)\n",
        "filter = bal[con]\n",
        "bonus = 0.05\n",
        "inc = (bonus*filter) + filter\n",
        "print(inc)"
      ],
      "metadata": {
        "colab": {
          "base_uri": "https://localhost:8080/"
        },
        "id": "xlGQmyDFClEd",
        "outputId": "945d3a0e-78e4-4ed9-fbbe-c25743d27f7d"
      },
      "execution_count": null,
      "outputs": [
        {
          "output_type": "execute_result",
          "data": {
            "text/plain": [
              "array([4276.65], dtype=object)"
            ]
          },
          "metadata": {},
          "execution_count": 94
        }
      ]
    },
    {
      "cell_type": "code",
      "source": [
        "age = (banking_array[:,0])\n",
        "low = age<25\n",
        "print(low)\n",
        "high = age>25\n",
        "print(high)\n",
        "bal = (banking_array[:,3])\n",
        "print(bal)\n",
        "b_1=20000\n",
        "b_2=10000\n",
        "filter_1 = bal[low]\n",
        "filter_2 = bal[high]\n",
        "low_age = filter_1 + b_1\n",
        "high_age = filter_2 + b_2\n",
        "print(low_age)\n",
        "print(high_age)"
      ],
      "metadata": {
        "colab": {
          "base_uri": "https://localhost:8080/"
        },
        "id": "LpMonXZZFivk",
        "outputId": "0d4ef447-b9e3-4bbc-fb1d-9a7ba591cc88"
      },
      "execution_count": null,
      "outputs": [
        {
          "output_type": "stream",
          "name": "stdout",
          "text": [
            "[False False False False False False False False False False False False\n",
            " False  True False False False False False False]\n",
            "[ True  True  True  True  True  True  True  True  True  True  True  True\n",
            "  True False  True  True  True  True False  True]\n",
            "[1787.0 4789.0 1350.0 1476.0 0.0 747.0 307.0 147.0 221.0 -88.0 9374.0\n",
            " 264.0 1109.0 502.0 360.0 194.0 4073.0 2317.0 -221.0 132.0]\n",
            "[20502.0]\n",
            "[11787.0 14789.0 11350.0 11476.0 10000.0 10747.0 10307.0 10147.0 10221.0\n",
            " 9912.0 19374.0 10264.0 11109.0 10360.0 10194.0 14073.0 12317.0 10132.0]\n"
          ]
        }
      ]
    },
    {
      "cell_type": "code",
      "source": [],
      "metadata": {
        "id": "WovhyS9tIZd-"
      },
      "execution_count": null,
      "outputs": []
    }
  ]
}