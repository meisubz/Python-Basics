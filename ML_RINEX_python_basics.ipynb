{
  "nbformat": 4,
  "nbformat_minor": 0,
  "metadata": {
    "colab": {
      "provenance": []
    },
    "kernelspec": {
      "name": "python3",
      "display_name": "Python 3"
    },
    "language_info": {
      "name": "python"
    }
  },
  "cells": [
    {
      "cell_type": "code",
      "execution_count": null,
      "metadata": {
        "colab": {
          "base_uri": "https://localhost:8080/"
        },
        "id": "c7A3Q3NllbcZ",
        "outputId": "832528fc-7cca-40f9-bac7-d66e006f91e5"
      },
      "outputs": [
        {
          "output_type": "stream",
          "name": "stdout",
          "text": [
            "hello world\n"
          ]
        }
      ],
      "source": [
        "#syntax for print function\n",
        "print('hello world')"
      ]
    },
    {
      "cell_type": "code",
      "source": [
        "#syntax for separator parameter of print function\n",
        "print('hello',' how are you',sep=',')"
      ],
      "metadata": {
        "colab": {
          "base_uri": "https://localhost:8080/"
        },
        "id": "XHEWDS8hnIKD",
        "outputId": "533d6ef0-191b-4e23-8c51-280aa5b25018"
      },
      "execution_count": null,
      "outputs": [
        {
          "output_type": "stream",
          "name": "stdout",
          "text": [
            "hello, how are you\n"
          ]
        }
      ]
    },
    {
      "cell_type": "code",
      "source": [
        "#syntax for end parameter of print function\n",
        "print('My name is UB',end=\"!\")\n",
        "print('What is your name?')"
      ],
      "metadata": {
        "colab": {
          "base_uri": "https://localhost:8080/"
        },
        "id": "OKlPAHBnnwu7",
        "outputId": "edc2909b-59d9-4ccb-d521-9b82e9ab2783"
      },
      "execution_count": null,
      "outputs": [
        {
          "output_type": "stream",
          "name": "stdout",
          "text": [
            "My name is UB!What is your name?\n"
          ]
        }
      ]
    },
    {
      "cell_type": "code",
      "source": [
        "#Variable\n",
        "name = 'Miss Bhat' #String\n",
        "print(name)"
      ],
      "metadata": {
        "colab": {
          "base_uri": "https://localhost:8080/"
        },
        "id": "IfM3oHDSo_pg",
        "outputId": "71ec32ab-6f3f-4bde-cd60-bdcf3f2e3235"
      },
      "execution_count": null,
      "outputs": [
        {
          "output_type": "stream",
          "name": "stdout",
          "text": [
            "Miss Bhat\n"
          ]
        }
      ]
    },
    {
      "cell_type": "code",
      "source": [
        "n_1 = 5\n",
        "n_2 = 10\n",
        "sum = n_1 + n_2\n",
        "print('Sum of',n_1,'and',n_2,'is',sum)"
      ],
      "metadata": {
        "colab": {
          "base_uri": "https://localhost:8080/"
        },
        "id": "2thiaAisshgK",
        "outputId": "d77b7d5f-9cf7-42d6-ddaa-cc5ebfc5555d"
      },
      "execution_count": null,
      "outputs": [
        {
          "output_type": "stream",
          "name": "stdout",
          "text": [
            "Sum of 5 and 10 is 15\n"
          ]
        }
      ]
    },
    {
      "cell_type": "code",
      "source": [
        "#Operators in Python\n",
        "#Arithmatic, Logical, Comparison, Assignment (Operators)"
      ],
      "metadata": {
        "id": "UdLB5BUcszyX"
      },
      "execution_count": null,
      "outputs": []
    },
    {
      "cell_type": "code",
      "source": [
        "#Arithmatic Operators\n",
        "#Division, Multiplication, Subtraction, Addition, Modulus\n",
        "num_1 = 5\n",
        "num_2 = 10\n",
        "#Division\n",
        "div = num_2/num_1\n",
        "print('The quotient is',div)\n",
        "#Floored Divison\n",
        "floor_div = num_2//num_1\n",
        "print('The quotient (as an integer) is',floor_div)\n",
        "#Modulus\n",
        "rem = num_1%num_2\n",
        "print('The remainder is',rem)\n",
        "#Multiplication\n",
        "product = num_1 * num_2\n",
        "print('The product is',product)\n",
        "#Subtraction\n",
        "diff = num_2 - num_2\n",
        "print('The difference is',diff)\n",
        "#Addition\n",
        "sum = num_1 + num_2\n",
        "print('The sum is',sum)\n"
      ],
      "metadata": {
        "colab": {
          "base_uri": "https://localhost:8080/"
        },
        "id": "ijS2wji7r98K",
        "outputId": "8e79ba59-f28d-40a2-f2da-4c482ee0e1bc"
      },
      "execution_count": null,
      "outputs": [
        {
          "output_type": "stream",
          "name": "stdout",
          "text": [
            "The quotient is 2.0\n",
            "The quotient (as an integer) is 2\n",
            "The remainder is 5\n",
            "The product is 50\n",
            "The difference is 0\n",
            "The sum is 15\n"
          ]
        }
      ]
    },
    {
      "cell_type": "code",
      "source": [
        "#Comparison Operators\n",
        "#The list of the operators:\n",
        "# equal to equal to (==)\n",
        "# not equal to (!=)\n",
        "# greater than (>)\n",
        "# greater than or equal to (>=)\n",
        "# less than (<)\n",
        "# less than or equal to (<=)\n",
        "x = 5\n",
        "y = 5\n",
        "\n",
        "# equal to equal to (==)\n",
        "print(x==y)\n",
        "\n",
        "# not equal to (!=)\n",
        "print(x!=y)\n",
        "\n",
        "# greater than or equal to (>=)\n",
        "print(x>=y)\n",
        "\n",
        "# greater than (>)\n",
        "print(x>y)\n",
        "\n",
        "# less than or equal to (<=)\n",
        "print(x<=y)\n",
        "\n",
        "# less than (<)\n",
        "print(x<y)\n",
        "\n",
        "#Boolean Data Type Answer: (True=1) and (False=0)"
      ],
      "metadata": {
        "colab": {
          "base_uri": "https://localhost:8080/"
        },
        "id": "f3AumqTosXKw",
        "outputId": "2f3e27df-1f7e-4918-d83a-19b2ab334a7a"
      },
      "execution_count": null,
      "outputs": [
        {
          "output_type": "stream",
          "name": "stdout",
          "text": [
            "True\n",
            "False\n",
            "True\n",
            "False\n",
            "True\n",
            "False\n"
          ]
        }
      ]
    },
    {
      "cell_type": "code",
      "source": [
        "#Logical Operators\n",
        "#Logical AND (and)\n",
        "#Logical OR (or)\n",
        "#Logical NOT (not)\n",
        "\n",
        "m=True\n",
        "n=False\n",
        "\n",
        "#Logical AND (and)\n",
        "\n",
        "print('logical AND')\n",
        "print(m and n)\n",
        "print(m and m)\n",
        "print(n and n)\n",
        "print(n and m)\n",
        "\n",
        "print()\n",
        "\n",
        "#Logical OR (or)\n",
        "\n",
        "print('logical OR')\n",
        "print(m or n)\n",
        "print(m or m)\n",
        "print(n or n)\n",
        "print(n or m)\n",
        "\n",
        "print()\n",
        "\n",
        "#Logical NOT (not)\n",
        "\n",
        "print('logical NOT')\n",
        "print(not m)\n",
        "print(not n)\n",
        "\n",
        "#Random Operations\n",
        "#True=1 and False=0\n",
        "print()\n",
        "print('Some random operations')\n",
        "print(m+n)\n",
        "print(m-n)\n",
        "print(m*m)"
      ],
      "metadata": {
        "colab": {
          "base_uri": "https://localhost:8080/"
        },
        "id": "5mhb8jtvvitH",
        "outputId": "75e06a7f-fcfc-4d55-b19d-e698d6293118"
      },
      "execution_count": null,
      "outputs": [
        {
          "output_type": "stream",
          "name": "stdout",
          "text": [
            "logical AND\n",
            "False\n",
            "True\n",
            "False\n",
            "False\n",
            "\n",
            "logical OR\n",
            "True\n",
            "True\n",
            "False\n",
            "True\n",
            "\n",
            "logical NOT\n",
            "False\n",
            "True\n",
            "\n",
            "Some random operations\n",
            "1\n",
            "1\n",
            "1\n"
          ]
        }
      ]
    },
    {
      "cell_type": "code",
      "source": [
        "#Assignment Operators (also includes shorthand assignment operators)\n",
        "#Assignment (=)\n",
        "x=1\n",
        "#Addition Assignment Operator (+=)\n",
        "x+=1 # x=x+1\n",
        "print(x)\n",
        "#Subtraction Assignment Operator (-=)\n",
        "x-=1 # x=x-1\n",
        "print(x)\n",
        "#Multiplication Assignment Operator (*=)\n",
        "x*=1 # x=x*1\n",
        "print(x)\n",
        "#Divsion Assignment Operator (/=)\n",
        "x/=1 # x=x/1\n",
        "print(x)"
      ],
      "metadata": {
        "colab": {
          "base_uri": "https://localhost:8080/"
        },
        "id": "RBc6UMpix74Q",
        "outputId": "5b7652a7-9c5a-405e-a39b-0c79226b146b"
      },
      "execution_count": null,
      "outputs": [
        {
          "output_type": "stream",
          "name": "stdout",
          "text": [
            "2\n",
            "1\n",
            "1\n",
            "1.0\n"
          ]
        }
      ]
    },
    {
      "cell_type": "markdown",
      "source": [
        "Conditional Statements\n"
      ],
      "metadata": {
        "id": "9pSKllux2KJj"
      }
    },
    {
      "cell_type": "code",
      "source": [
        "'''\n",
        "1. if statement\n",
        "\n",
        "Syntax:\n",
        "\n",
        "if condition_is_true:\n",
        "  print(statement)\n",
        "\n",
        "if condition_is_false:\n",
        "  continue from next line of code ignoring the print statement\n",
        "\n",
        "2. elif statement\n",
        "\n",
        "Syntax:\n",
        "\n",
        "if condition_is_false:\n",
        "  continue from next line of code ignoring the print statement\n",
        "\n",
        "elif condition_is_true:\n",
        "  print(statement)\n",
        "\n",
        "3. else statement\n",
        "\n",
        "Syntax:\n",
        "\n",
        "if condition_is_false:\n",
        "  continue from next line of code ignoring the print statement\n",
        "\n",
        "elif condition_is_false:\n",
        "    continue from next line of code ignoring the print statement\n",
        "\n",
        "else:\n",
        "  print(statement)\n",
        "\n",
        "'''"
      ],
      "metadata": {
        "colab": {
          "base_uri": "https://localhost:8080/",
          "height": 36
        },
        "id": "KHygQNPG2RIv",
        "outputId": "794973ba-8553-42aa-fd29-fbe1873d0621"
      },
      "execution_count": null,
      "outputs": [
        {
          "output_type": "execute_result",
          "data": {
            "text/plain": [
              "'\\n1. if statement\\n\\nSyntax:\\n\\nif condition_is_true:\\n  print(statement)\\n\\nif condition_is_false:\\n  continue from next line of code ignoring the print statement\\n\\n2. \\n'"
            ],
            "application/vnd.google.colaboratory.intrinsic+json": {
              "type": "string"
            }
          },
          "metadata": {},
          "execution_count": 4
        }
      ]
    },
    {
      "cell_type": "code",
      "source": [
        "rain=int(input('Is it ranining? (Enter 1 for True/0 for False)'))\n",
        "if rain==1:\n",
        "  print('Take umbrella')"
      ],
      "metadata": {
        "colab": {
          "base_uri": "https://localhost:8080/"
        },
        "id": "Uc1MDdUB2by-",
        "outputId": "9badf162-7e7e-4ee1-dcfd-762b98872903"
      },
      "execution_count": null,
      "outputs": [
        {
          "output_type": "stream",
          "name": "stdout",
          "text": [
            "Is it ranining? (Enter 1 for True/0 for False)1\n",
            "Take umbrella\n"
          ]
        }
      ]
    },
    {
      "cell_type": "code",
      "source": [
        "is_admin = True\n",
        "if is_admin:\n",
        "  print('Access Granted')\n",
        "\n",
        "else:\n",
        "  print('Access Denied')"
      ],
      "metadata": {
        "colab": {
          "base_uri": "https://localhost:8080/"
        },
        "id": "v0XQj62133IE",
        "outputId": "58981717-52df-4066-b1a2-e1ede4840667"
      },
      "execution_count": null,
      "outputs": [
        {
          "output_type": "stream",
          "name": "stdout",
          "text": [
            "Access Granted\n"
          ]
        }
      ]
    },
    {
      "cell_type": "code",
      "source": [
        "score = int(input('Enter your score (out of 100): '))\n",
        "if score>=90:\n",
        "  print('A')\n",
        "\n",
        "elif score>=70:\n",
        "  print('B')\n",
        "\n",
        "elif score>=50:\n",
        "  print('C')\n",
        "\n",
        "else:\n",
        "  print('Better Luck Next Time')"
      ],
      "metadata": {
        "colab": {
          "base_uri": "https://localhost:8080/"
        },
        "id": "El9wWdFM5XPZ",
        "outputId": "1aca87bc-3c6d-4188-efb1-c1a9a081f970"
      },
      "execution_count": null,
      "outputs": [
        {
          "output_type": "stream",
          "name": "stdout",
          "text": [
            "Enter your score (out of 100): 96\n",
            "A\n"
          ]
        }
      ]
    },
    {
      "cell_type": "code",
      "source": [
        "hour = int(input('Enter the hour(in 24-hour format): '))\n",
        "if hour<12:\n",
        "  print('Good morning!')\n",
        "\n",
        "elif hour<18 and hour>12:\n",
        "  print('Good afternoon!')\n",
        "\n",
        "elif hour<21 and hour>18:\n",
        "  print('Good evening!')\n",
        "\n",
        "else:\n",
        "  print('Good night!')"
      ],
      "metadata": {
        "colab": {
          "base_uri": "https://localhost:8080/"
        },
        "id": "S7vEYQay7STi",
        "outputId": "2cd8aabc-11af-4d1f-d2fc-ba34693f66e2"
      },
      "execution_count": null,
      "outputs": [
        {
          "output_type": "stream",
          "name": "stdout",
          "text": [
            "Enter the hour(in 24-hour format): 15\n",
            "Good afternoon!\n"
          ]
        }
      ]
    },
    {
      "cell_type": "code",
      "source": [
        "#Expected password is 123456\n",
        "'''\n",
        "#Amatuer method\n",
        "password = int(input('Enter your password: '))\n",
        "if password==123456:\n",
        "  print('Access Granted')\n",
        "\n",
        "else:\n",
        "  print('No Access')\n",
        "'''\n",
        "\n",
        "#Pro Method\n",
        "expected=123456\n",
        "password = int(input('Enter your password: '))\n",
        "if password==expected:\n",
        "    print('Access Granted')\n",
        "\n",
        "else:\n",
        "  print('No Access')\n"
      ],
      "metadata": {
        "colab": {
          "base_uri": "https://localhost:8080/"
        },
        "id": "1h2EcE0b9Pli",
        "outputId": "9ed38e71-0c08-4395-f2fa-48cde1b67700"
      },
      "execution_count": null,
      "outputs": [
        {
          "output_type": "stream",
          "name": "stdout",
          "text": [
            "Enter your password: 123456\n",
            "Access Granted\n"
          ]
        }
      ]
    },
    {
      "cell_type": "code",
      "source": [
        "#Data Types\n",
        "'''\n",
        "1) Boolean\n",
        "2) Number\n",
        "3) String\n",
        "4) List\n",
        "5) Dictionary\n",
        "'''"
      ],
      "metadata": {
        "id": "rDvxJ-KFBN_P",
        "colab": {
          "base_uri": "https://localhost:8080/",
          "height": 36
        },
        "outputId": "ccf2c9f4-258c-4a3b-c00b-2351e024a34f"
      },
      "execution_count": null,
      "outputs": [
        {
          "output_type": "execute_result",
          "data": {
            "text/plain": [
              "'\\n1) Boolean\\n2) Number\\n3) String\\n4) List\\n5) Dictionary\\n'"
            ],
            "application/vnd.google.colaboratory.intrinsic+json": {
              "type": "string"
            }
          },
          "metadata": {},
          "execution_count": 1
        }
      ]
    },
    {
      "cell_type": "code",
      "source": [
        "#Boolean\n",
        "a=True\n",
        "print(type(a))"
      ],
      "metadata": {
        "colab": {
          "base_uri": "https://localhost:8080/"
        },
        "id": "9UlxC-Xb0oVx",
        "outputId": "0d8fb751-e86f-42ff-a869-bacaffd06feb"
      },
      "execution_count": null,
      "outputs": [
        {
          "output_type": "stream",
          "name": "stdout",
          "text": [
            "<class 'bool'>\n"
          ]
        }
      ]
    },
    {
      "cell_type": "code",
      "source": [
        "#Number\n",
        "a=5\n",
        "b=9.8\n",
        "print(type(a))\n",
        "print(type(b))"
      ],
      "metadata": {
        "colab": {
          "base_uri": "https://localhost:8080/"
        },
        "id": "CNbEVm5e1Ck9",
        "outputId": "80166c9d-a463-4b76-f15a-933df15b585e"
      },
      "execution_count": null,
      "outputs": [
        {
          "output_type": "stream",
          "name": "stdout",
          "text": [
            "<class 'int'>\n",
            "<class 'float'>\n"
          ]
        }
      ]
    },
    {
      "cell_type": "code",
      "source": [
        "#List\n",
        "L=['peach','guava','apple','lychee','pear']\n",
        "print(L[2][:3])"
      ],
      "metadata": {
        "colab": {
          "base_uri": "https://localhost:8080/"
        },
        "id": "686U-UHM1L_h",
        "outputId": "8fd1aefa-ccdb-4733-d946-a8f56933fb62"
      },
      "execution_count": null,
      "outputs": [
        {
          "output_type": "stream",
          "name": "stdout",
          "text": [
            "app\n"
          ]
        }
      ]
    },
    {
      "cell_type": "code",
      "source": [
        "#String\n",
        "z = 'hello'\n",
        "y = \"amazing\"\n",
        "print(type(z))\n",
        "print(type(y))"
      ],
      "metadata": {
        "colab": {
          "base_uri": "https://localhost:8080/"
        },
        "id": "7SfwEyDl1fe-",
        "outputId": "8f481985-7f6e-40b3-cf1c-ff98157ad8bc"
      },
      "execution_count": null,
      "outputs": [
        {
          "output_type": "stream",
          "name": "stdout",
          "text": [
            "<class 'str'>\n",
            "<class 'str'>\n"
          ]
        }
      ]
    },
    {
      "cell_type": "code",
      "source": [
        "#Dictionaries: Used to store collection of data in key-value pairs\n",
        "D = {'Name':'Rose','Age':18}\n",
        "print(D)\n",
        "print(list(D.values()))\n",
        "print(list(D.keys()))\n",
        "print(list(D.items()))"
      ],
      "metadata": {
        "colab": {
          "base_uri": "https://localhost:8080/"
        },
        "id": "IIFnLfuk0uJb",
        "outputId": "c4f645d1-2486-4cb1-c095-308e71207ea9"
      },
      "execution_count": null,
      "outputs": [
        {
          "output_type": "stream",
          "name": "stdout",
          "text": [
            "{'Name': 'Rose', 'Age': 18}\n",
            "['Rose', 18]\n",
            "['Name', 'Age']\n",
            "[('Name', 'Rose'), ('Age', 18)]\n"
          ]
        }
      ]
    },
    {
      "cell_type": "code",
      "source": [
        "#Length of Dictionary\n",
        "length = len(D)\n",
        "print(length)\n",
        "\n",
        "#Updating the Dictionary: The keys of new dictionary should match with original dictionary\n",
        "D1 = {'Name':'Elsa','Age':20}\n",
        "D.update(D1)\n",
        "print(D)\n",
        "\n",
        "#Updating the Dictionary using keys\n",
        "D['Name'] = 'Sasha'\n",
        "D['Age'] = 21\n",
        "print(D)\n"
      ],
      "metadata": {
        "colab": {
          "base_uri": "https://localhost:8080/"
        },
        "id": "k7qsN3_J12wi",
        "outputId": "1562d78c-bcd1-4e70-8de2-48537865e0fc"
      },
      "execution_count": null,
      "outputs": [
        {
          "output_type": "stream",
          "name": "stdout",
          "text": [
            "2\n",
            "{'Name': 'Elsa', 'Age': 20}\n",
            "{'Name': 'Sasha', 'Age': 21}\n"
          ]
        }
      ]
    },
    {
      "cell_type": "code",
      "source": [
        "#Program to find whether a number is odd, even or zero\n",
        "n = int(input('Enter the number: '))\n",
        "if n==0:\n",
        "  print('Number/Value is zero')\n",
        "elif n%2==0:\n",
        "  print('Number is even')\n",
        "else:\n",
        "  print('Number is odd')\n"
      ],
      "metadata": {
        "colab": {
          "base_uri": "https://localhost:8080/"
        },
        "id": "wvLzpbyP2wGg",
        "outputId": "37677df5-6d42-4141-987d-7f9719730a06"
      },
      "execution_count": null,
      "outputs": [
        {
          "output_type": "stream",
          "name": "stdout",
          "text": [
            "Enter the number: 222\n",
            "Number is even\n"
          ]
        }
      ]
    },
    {
      "cell_type": "code",
      "source": [
        "#Marks of the student\n",
        "marks = int(input('Enter yours marks: '))\n",
        "if marks>80:\n",
        "  print('Grade A')\n",
        "elif marks>50:\n",
        "  print('Grade B')\n",
        "else:\n",
        "  print('Better Luck Next Time')"
      ],
      "metadata": {
        "colab": {
          "base_uri": "https://localhost:8080/"
        },
        "id": "z8Nog9Xi43E1",
        "outputId": "633f85d5-68a3-43b2-f367-f75c3e2ca5f4"
      },
      "execution_count": null,
      "outputs": [
        {
          "output_type": "stream",
          "name": "stdout",
          "text": [
            "Enter yours marks: 99\n",
            "Grade A\n"
          ]
        }
      ]
    },
    {
      "cell_type": "code",
      "source": [
        "#Employee Dedication\n",
        "years_worked = int(input('Enter the number of years that you have worked for: '))\n",
        "salary = float(input('Enter current salary: '))\n",
        "if years_worked>5:\n",
        "  print('You received a 5% bonus, so your new salary is ',((0.05*salary)+salary))\n",
        "else:\n",
        "  print('No bonus, so your salary is',salary)"
      ],
      "metadata": {
        "colab": {
          "base_uri": "https://localhost:8080/"
        },
        "id": "bSxKIImn7UeR",
        "outputId": "14858c59-b10a-42a6-8ad1-0dcfe8111508"
      },
      "execution_count": null,
      "outputs": [
        {
          "output_type": "stream",
          "name": "stdout",
          "text": [
            "Enter the number of years that you have worked for: 7\n",
            "Enter current salary: 150000\n",
            "You received a 5% bonus, so your new salary is  157500.0\n"
          ]
        }
      ]
    },
    {
      "cell_type": "code",
      "source": [
        "#Electricity Units\n",
        "units = int(input('Enter the units consumed: '))\n",
        "if units<100:\n",
        "  print('No extra charge')\n",
        "elif units<200:\n",
        "  print('Charge is 5/- per unit, so total charge is',((units-100)*5))\n",
        "else:\n",
        "  print('Charge is 10/- per unit, so total charge is',((units-200)*10))"
      ],
      "metadata": {
        "colab": {
          "base_uri": "https://localhost:8080/"
        },
        "id": "UIlKoYRl96Fo",
        "outputId": "6a4c91f8-75ce-41c9-e42e-4c3a66f168df"
      },
      "execution_count": null,
      "outputs": [
        {
          "output_type": "stream",
          "name": "stdout",
          "text": [
            "Enter the units consumed: 202\n",
            "Charge is 10/- per unit, so total charge is 20\n"
          ]
        }
      ]
    },
    {
      "cell_type": "code",
      "source": [
        "#Check if the character consists of vowels or consonants\n",
        "cha = input('Enter the character: ')\n",
        "vowels = 'aeiou'\n",
        "if cha.lower() in vowels:\n",
        "  print('Vowel')\n",
        "else:\n",
        "  print('Consonant')\n"
      ],
      "metadata": {
        "colab": {
          "base_uri": "https://localhost:8080/"
        },
        "id": "kDtdnkIr_1os",
        "outputId": "c181c8eb-ec4b-450b-c12c-69cb62cf8156"
      },
      "execution_count": null,
      "outputs": [
        {
          "output_type": "stream",
          "name": "stdout",
          "text": [
            "Enter the character: I\n",
            "Vowel\n"
          ]
        }
      ]
    },
    {
      "cell_type": "code",
      "source": [
        "#BMI Calculator; BMI=weight(kg)/height(m^2)\n",
        "weight = float(input('Enter weight(in kg): '))\n",
        "height = float(input('Enter height(in m): '))\n",
        "bmi = weight/((height)**2)\n",
        "print(bmi)\n",
        "if bmi<18.5:\n",
        "  print('You are underweight')\n",
        "elif bmi>=18.5 and bmi<24.9:\n",
        "  print('You are in the normal weight range')\n",
        "elif bmi>=24.9 and bmi<29.9:\n",
        "  print('You are overweight')\n",
        "else:\n",
        "  print(\"You are obese\")"
      ],
      "metadata": {
        "colab": {
          "base_uri": "https://localhost:8080/"
        },
        "id": "4MBg9VdJFDOo",
        "outputId": "a2403bfd-7cac-4529-a9bd-19587917bf49"
      },
      "execution_count": null,
      "outputs": [
        {
          "output_type": "stream",
          "name": "stdout",
          "text": [
            "Enter weight(in kg): 54\n",
            "Enter height(in m): 1.64\n",
            "20.077334919690664\n",
            "You are in the normal weight range\n"
          ]
        }
      ]
    },
    {
      "cell_type": "code",
      "source": [
        "# User Authentication\n",
        "db = {'user1': '123456', 'user2': '123@abc', 'user3': '654321'}\n",
        "username = input('Enter username: ')\n",
        "\n",
        "if username in db.keys():\n",
        "    password = input('Enter password: ')\n",
        "\n",
        "    if password == db[username]:\n",
        "        print('Access Granted')\n",
        "        print('Welcome', username)\n",
        "    else:\n",
        "        print('Access Denied. Incorrect password.')\n",
        "else:\n",
        "    print('Try different username')\n"
      ],
      "metadata": {
        "colab": {
          "base_uri": "https://localhost:8080/"
        },
        "id": "N7OemdQTH_DT",
        "outputId": "a5f1abcd-7ddd-4f9d-bd0f-eefa31813f42"
      },
      "execution_count": null,
      "outputs": [
        {
          "output_type": "stream",
          "name": "stdout",
          "text": [
            "Enter username: user1\n",
            "Enter password: 123456\n",
            "Access Granted\n",
            "Welcome user1\n"
          ]
        }
      ]
    },
    {
      "cell_type": "code",
      "source": [
        "#Temperature Converter\n",
        "#From celsius to farenheit formula: f=(c*(9/5)) + 32\n",
        "#From farenheit to celsius formula: c=(f-32)*(5/9)\n",
        "print('1 for celsius to farenheit')\n",
        "print('2 for farenheit to celsius')\n",
        "conversion_type = int(input('Enter 1 or 2: '))\n",
        "if conversion_type == 1:\n",
        "  celsius = float(input('Enter value in celsius: '))\n",
        "  farenheit = (celsius * 9/5) + 32\n",
        "  print('celsius',celsius,'farenheit',farenheit)\n",
        "\n",
        "elif conversion_type == 2:\n",
        "  farenheit = float(input('Enter value in celsius: '))\n",
        "  celsius = (farenheit-32)*5/9\n",
        "  print('farenheit',farenheit,'celsius',celsius)\n",
        "\n",
        "else:\n",
        "  print('Enter correct choice')\n"
      ],
      "metadata": {
        "colab": {
          "base_uri": "https://localhost:8080/"
        },
        "id": "8Jql-nVabuNW",
        "outputId": "1a6665f1-e27f-4326-e727-08a7aff77f93"
      },
      "execution_count": null,
      "outputs": [
        {
          "output_type": "stream",
          "name": "stdout",
          "text": [
            "1 for celsius to farenheit\n",
            "2 for farenheit to celsius\n",
            "Enter 1 or 2: 1\n",
            "Enter value in celsius: 0\n",
            "celsius 0.0 farenheit 32.0\n"
          ]
        }
      ]
    },
    {
      "cell_type": "code",
      "source": [
        "#Print numbers from 1 to 10\n",
        "for i in range(1,11):\n",
        "  print(i)"
      ],
      "metadata": {
        "colab": {
          "base_uri": "https://localhost:8080/"
        },
        "id": "cmuT2Lu2bpbh",
        "outputId": "0577f074-5431-432f-cdc4-8437cd798610"
      },
      "execution_count": null,
      "outputs": [
        {
          "output_type": "stream",
          "name": "stdout",
          "text": [
            "1\n",
            "2\n",
            "3\n",
            "4\n",
            "5\n",
            "6\n",
            "7\n",
            "8\n",
            "9\n",
            "10\n"
          ]
        }
      ]
    },
    {
      "cell_type": "code",
      "source": [
        "#Print numbers from 11 to 20\n",
        "for i in range(11,21):\n",
        "  print(i)"
      ],
      "metadata": {
        "colab": {
          "base_uri": "https://localhost:8080/"
        },
        "id": "v58kNyNsd2Bo",
        "outputId": "8aec0a9e-848a-4059-c194-2f682e283692"
      },
      "execution_count": null,
      "outputs": [
        {
          "output_type": "stream",
          "name": "stdout",
          "text": [
            "11\n",
            "12\n",
            "13\n",
            "14\n",
            "15\n",
            "16\n",
            "17\n",
            "18\n",
            "19\n",
            "20\n"
          ]
        }
      ]
    },
    {
      "cell_type": "code",
      "source": [
        "#Print numbers from 20 to 1\n",
        "for i in range(20,0,-1):\n",
        "  print(i)"
      ],
      "metadata": {
        "colab": {
          "base_uri": "https://localhost:8080/"
        },
        "id": "fTKjwVHueUuZ",
        "outputId": "90f72797-3e76-42d0-ddc1-361fe365cc56"
      },
      "execution_count": null,
      "outputs": [
        {
          "output_type": "stream",
          "name": "stdout",
          "text": [
            "20\n",
            "19\n",
            "18\n",
            "17\n",
            "16\n",
            "15\n",
            "14\n",
            "13\n",
            "12\n",
            "11\n",
            "10\n",
            "9\n",
            "8\n",
            "7\n",
            "6\n",
            "5\n",
            "4\n",
            "3\n",
            "2\n",
            "1\n"
          ]
        }
      ]
    },
    {
      "cell_type": "code",
      "source": [
        "#Print numbers from 100 to 10 with step size 10\n",
        "for i in range(100,1,-10):\n",
        "  print(i)"
      ],
      "metadata": {
        "colab": {
          "base_uri": "https://localhost:8080/"
        },
        "id": "IGNlFGSZm4qI",
        "outputId": "6fff8e39-e736-463c-891d-4859e4a11c55"
      },
      "execution_count": null,
      "outputs": [
        {
          "output_type": "stream",
          "name": "stdout",
          "text": [
            "100\n",
            "90\n",
            "80\n",
            "70\n",
            "60\n",
            "50\n",
            "40\n",
            "30\n",
            "20\n",
            "10\n"
          ]
        }
      ]
    },
    {
      "cell_type": "code",
      "source": [
        "#Print numbers from 100 to 50 s.t only numbers divisible by 7 are in view\n",
        "for i in range(100,51,-1):\n",
        "  if i%7==0:\n",
        "    print(i)"
      ],
      "metadata": {
        "colab": {
          "base_uri": "https://localhost:8080/"
        },
        "id": "YKVEpFynpiXj",
        "outputId": "193d4aac-ead5-4487-ef27-f4da8036d0f8"
      },
      "execution_count": null,
      "outputs": [
        {
          "output_type": "stream",
          "name": "stdout",
          "text": [
            "98\n",
            "91\n",
            "84\n",
            "77\n",
            "70\n",
            "63\n",
            "56\n"
          ]
        }
      ]
    },
    {
      "cell_type": "code",
      "source": [
        "#Print numbers from 100 to 50 s.t numbers divisible by 5 are not in view\n",
        "for i in range(100,55,-1):\n",
        "  if i%5!=0:\n",
        "    print(i)"
      ],
      "metadata": {
        "colab": {
          "base_uri": "https://localhost:8080/"
        },
        "id": "IU2sPlDcqI8y",
        "outputId": "d30b578b-ce40-4d6c-f20a-0fcf55938f4c"
      },
      "execution_count": null,
      "outputs": [
        {
          "output_type": "stream",
          "name": "stdout",
          "text": [
            "99\n",
            "98\n",
            "97\n",
            "96\n",
            "94\n",
            "93\n",
            "92\n",
            "91\n",
            "89\n",
            "88\n",
            "87\n",
            "86\n",
            "84\n",
            "83\n",
            "82\n",
            "81\n",
            "79\n",
            "78\n",
            "77\n",
            "76\n",
            "74\n",
            "73\n",
            "72\n",
            "71\n",
            "69\n",
            "68\n",
            "67\n",
            "66\n",
            "64\n",
            "63\n",
            "62\n",
            "61\n",
            "59\n",
            "58\n",
            "57\n",
            "56\n"
          ]
        }
      ]
    },
    {
      "cell_type": "code",
      "source": [
        "#Sum of numbers from 1 to 10\n",
        "sum = 0\n",
        "for i in range(1,11):\n",
        "  sum+=i\n",
        "\n",
        "print(sum)"
      ],
      "metadata": {
        "id": "iV-1-f72qeFx",
        "colab": {
          "base_uri": "https://localhost:8080/"
        },
        "outputId": "785b73dd-5970-458b-f4a3-5bfcf882dd2b"
      },
      "execution_count": null,
      "outputs": [
        {
          "output_type": "stream",
          "name": "stdout",
          "text": [
            "55\n"
          ]
        }
      ]
    },
    {
      "cell_type": "code",
      "source": [
        "#Print the multiples of 7 until 70\n",
        "for i in range(7,71):\n",
        "  if i%7==0:\n",
        "    print(i)"
      ],
      "metadata": {
        "colab": {
          "base_uri": "https://localhost:8080/"
        },
        "id": "lcMimRM-pCop",
        "outputId": "c15b0049-196c-4aa5-bebd-b268e27d8722"
      },
      "execution_count": null,
      "outputs": [
        {
          "output_type": "stream",
          "name": "stdout",
          "text": [
            "7\n",
            "14\n",
            "21\n",
            "28\n",
            "35\n",
            "42\n",
            "49\n",
            "56\n",
            "63\n",
            "70\n"
          ]
        }
      ]
    },
    {
      "cell_type": "code",
      "source": [
        "#Print the multiples of 9 until 100\n",
        "for i in range(9,100):\n",
        "  if i%9==0:\n",
        "    print(i)"
      ],
      "metadata": {
        "colab": {
          "base_uri": "https://localhost:8080/"
        },
        "id": "IpfJ2TSTrtAl",
        "outputId": "076ea63e-60a1-4ee8-87d3-dbf6988e527a"
      },
      "execution_count": null,
      "outputs": [
        {
          "output_type": "stream",
          "name": "stdout",
          "text": [
            "9\n",
            "18\n",
            "27\n",
            "36\n",
            "45\n",
            "54\n",
            "63\n",
            "72\n",
            "81\n",
            "90\n",
            "99\n"
          ]
        }
      ]
    },
    {
      "cell_type": "code",
      "source": [
        "#Print * Pattern\n",
        "def star():\n",
        "  for i in range(5):\n",
        "    print('*', end='')\n",
        "\n",
        "star()\n",
        "print()\n",
        "print('hello')\n",
        "star()\n",
        "print()\n",
        "print('access granted')\n",
        "star()"
      ],
      "metadata": {
        "colab": {
          "base_uri": "https://localhost:8080/"
        },
        "id": "rbkQiHlkr9Q0",
        "outputId": "a8bda95e-91e4-48b9-d84b-7306294c36dc"
      },
      "execution_count": null,
      "outputs": [
        {
          "output_type": "stream",
          "name": "stdout",
          "text": [
            "*****\n",
            "hello\n",
            "*****\n",
            "access granted\n",
            "*****"
          ]
        }
      ]
    },
    {
      "cell_type": "code",
      "source": [
        "#Print * using nested for loops\n",
        "n=5\n",
        "for i in range(n):\n",
        "  for j in range(n):\n",
        "    print('*', end='')\n",
        "  print('\\n')\n",
        "\n",
        "for i in range(n):\n",
        "  print('*'*5)"
      ],
      "metadata": {
        "colab": {
          "base_uri": "https://localhost:8080/"
        },
        "id": "5EPQx6kYsYV4",
        "outputId": "6e3f6dc9-5420-4ad0-891c-d6a89d802f56"
      },
      "execution_count": null,
      "outputs": [
        {
          "output_type": "stream",
          "name": "stdout",
          "text": [
            "*****\n",
            "\n",
            "*****\n",
            "\n",
            "*****\n",
            "\n",
            "*****\n",
            "\n",
            "*****\n",
            "\n",
            "*****\n",
            "*****\n",
            "*****\n",
            "*****\n",
            "*****\n"
          ]
        }
      ]
    },
    {
      "cell_type": "code",
      "source": [
        "for i in range(6):\n",
        "  print('*'*i)"
      ],
      "metadata": {
        "colab": {
          "base_uri": "https://localhost:8080/"
        },
        "id": "D-sNH7eotx4p",
        "outputId": "da2afb0f-5686-47b4-da56-d3f2a5f702ea"
      },
      "execution_count": null,
      "outputs": [
        {
          "output_type": "stream",
          "name": "stdout",
          "text": [
            "\n",
            "*\n",
            "**\n",
            "***\n",
            "****\n",
            "*****\n"
          ]
        }
      ]
    },
    {
      "cell_type": "code",
      "source": [
        "#Doing the same (as above) using nested for loop\n",
        "n=5\n",
        "for i in range(n): #Depends on rows\n",
        "  for j in range(i+1): #Depends on columns\n",
        "    print('*',end='')\n",
        "  print()"
      ],
      "metadata": {
        "colab": {
          "base_uri": "https://localhost:8080/"
        },
        "id": "wp8nd__SuynN",
        "outputId": "6399ffee-bbef-4d25-c8fd-2d8e08d68b81"
      },
      "execution_count": null,
      "outputs": [
        {
          "output_type": "stream",
          "name": "stdout",
          "text": [
            "*\n",
            "**\n",
            "***\n",
            "****\n",
            "*****\n"
          ]
        }
      ]
    },
    {
      "cell_type": "code",
      "source": [
        "#Print the pattern\n",
        "n=5\n",
        "for i in range(n):\n",
        "  for j in range(i+1):\n",
        "    print('*',end='')\n",
        "  print()"
      ],
      "metadata": {
        "colab": {
          "base_uri": "https://localhost:8080/"
        },
        "id": "QpF53v2HvbVh",
        "outputId": "1bdeb948-13d5-47c2-bfa1-da017f060660"
      },
      "execution_count": null,
      "outputs": [
        {
          "output_type": "stream",
          "name": "stdout",
          "text": [
            "*\n",
            "**\n",
            "***\n",
            "****\n",
            "*****\n"
          ]
        }
      ]
    },
    {
      "cell_type": "code",
      "source": [
        "n=6\n",
        "for rows in range(n-1,0,-1):\n",
        "  for columns in range(rows):\n",
        "    print('*',end='')\n",
        "  print()"
      ],
      "metadata": {
        "id": "n8e5sfV5xKT1",
        "colab": {
          "base_uri": "https://localhost:8080/"
        },
        "outputId": "d40201c1-15b9-4c48-f8b8-df0be1f0be26"
      },
      "execution_count": null,
      "outputs": [
        {
          "output_type": "stream",
          "name": "stdout",
          "text": [
            "*****\n",
            "****\n",
            "***\n",
            "**\n",
            "*\n"
          ]
        }
      ]
    },
    {
      "cell_type": "code",
      "source": [
        "n = 6\n",
        "for rows in range(1,n):\n",
        "  print(' ' * (n-rows), end='')\n",
        "  print(' *' * rows)"
      ],
      "metadata": {
        "colab": {
          "base_uri": "https://localhost:8080/"
        },
        "id": "arcxoJKiDd2n",
        "outputId": "abc4f8a9-6e11-4bd2-9817-6aae2c163a6c"
      },
      "execution_count": null,
      "outputs": [
        {
          "output_type": "stream",
          "name": "stdout",
          "text": [
            "      *\n",
            "     * *\n",
            "    * * *\n",
            "   * * * *\n",
            "  * * * * *\n"
          ]
        }
      ]
    },
    {
      "cell_type": "code",
      "source": [
        "n = 5\n",
        "for rows in range(n,0,-1):\n",
        "  print(' ' * (n-rows), end='')\n",
        "  print(' *' * rows)"
      ],
      "metadata": {
        "colab": {
          "base_uri": "https://localhost:8080/"
        },
        "id": "cSkwzNj9EpsT",
        "outputId": "9456b77d-eb25-447d-c7b5-f220655c8ae4"
      },
      "execution_count": null,
      "outputs": [
        {
          "output_type": "stream",
          "name": "stdout",
          "text": [
            " * * * * *\n",
            "  * * * *\n",
            "   * * *\n",
            "    * *\n",
            "     *\n"
          ]
        }
      ]
    },
    {
      "cell_type": "code",
      "source": [
        "n = 5\n",
        "for rows in range(1,n):\n",
        "  print(' '*(n-rows),end='')\n",
        "  print(' *'*rows)\n",
        "for rows in range(n,0,-1):\n",
        "  print(' ' * (n-rows), end='')\n",
        "  print(' *' * rows)"
      ],
      "metadata": {
        "colab": {
          "base_uri": "https://localhost:8080/"
        },
        "id": "_MFHumJ_Gm9V",
        "outputId": "3046fecd-e68e-4785-d145-92837cd2e66e"
      },
      "execution_count": null,
      "outputs": [
        {
          "output_type": "stream",
          "name": "stdout",
          "text": [
            "     *\n",
            "    * *\n",
            "   * * *\n",
            "  * * * *\n",
            " * * * * *\n",
            "  * * * *\n",
            "   * * *\n",
            "    * *\n",
            "     *\n"
          ]
        }
      ]
    },
    {
      "cell_type": "code",
      "source": [
        "for rows in range(1,6):\n",
        "  for columns in range(1,rows+1):\n",
        "    print(columns, end='')\n",
        "  print()"
      ],
      "metadata": {
        "colab": {
          "base_uri": "https://localhost:8080/"
        },
        "id": "vd2dxZI9HNGA",
        "outputId": "7b9fe884-d5a5-4962-b094-c0cc2b97d224"
      },
      "execution_count": null,
      "outputs": [
        {
          "output_type": "stream",
          "name": "stdout",
          "text": [
            "1\n",
            "12\n",
            "123\n",
            "1234\n",
            "12345\n"
          ]
        }
      ]
    },
    {
      "cell_type": "code",
      "source": [
        "for rows in range(1,6):\n",
        "  for columns in range(1,rows+1):\n",
        "    print(rows,end='')\n",
        "  print()"
      ],
      "metadata": {
        "colab": {
          "base_uri": "https://localhost:8080/"
        },
        "id": "tHHNcoTaH29x",
        "outputId": "ac4792eb-0f93-459d-c8bb-d4a29035d0f5"
      },
      "execution_count": null,
      "outputs": [
        {
          "output_type": "stream",
          "name": "stdout",
          "text": [
            "1\n",
            "22\n",
            "333\n",
            "4444\n",
            "55555\n"
          ]
        }
      ]
    },
    {
      "cell_type": "code",
      "source": [
        "for rows in range(5,0,-1):\n",
        "  for columns in range(1,rows+1):\n",
        "    print(columns, end='')\n",
        "  print()"
      ],
      "metadata": {
        "colab": {
          "base_uri": "https://localhost:8080/"
        },
        "id": "0lcbItCFITAM",
        "outputId": "c367dfa3-8586-47a9-ff18-08065a85b605"
      },
      "execution_count": null,
      "outputs": [
        {
          "output_type": "stream",
          "name": "stdout",
          "text": [
            "12345\n",
            "1234\n",
            "123\n",
            "12\n",
            "1\n"
          ]
        }
      ]
    },
    {
      "cell_type": "code",
      "source": [
        "for rows in range(5,0,-1):\n",
        "  for columns in range(1,rows+1):\n",
        "    print(rows,end='')\n",
        "  print()"
      ],
      "metadata": {
        "colab": {
          "base_uri": "https://localhost:8080/"
        },
        "id": "pqzcciBYIZSt",
        "outputId": "ad277789-6087-4fff-cb68-33877be817da"
      },
      "execution_count": null,
      "outputs": [
        {
          "output_type": "stream",
          "name": "stdout",
          "text": [
            "55555\n",
            "4444\n",
            "333\n",
            "22\n",
            "1\n"
          ]
        }
      ]
    },
    {
      "cell_type": "code",
      "source": [
        "for rows in range(1,5):\n",
        "  for columns in range(1,rows+1):\n",
        "    print(columns, end='')\n",
        "  print()\n",
        "for rows in range(5,0,-1):\n",
        "  for columns in range(1,rows+1):\n",
        "    print(columns, end='')\n",
        "  print()"
      ],
      "metadata": {
        "colab": {
          "base_uri": "https://localhost:8080/"
        },
        "id": "UksLLNa3I4FV",
        "outputId": "b5235242-1965-46fc-f6e8-0cc85b7096ed"
      },
      "execution_count": null,
      "outputs": [
        {
          "output_type": "stream",
          "name": "stdout",
          "text": [
            "1\n",
            "12\n",
            "123\n",
            "1234\n",
            "12345\n",
            "1234\n",
            "123\n",
            "12\n",
            "1\n"
          ]
        }
      ]
    },
    {
      "cell_type": "code",
      "source": [
        "#Sum of list using loop\n",
        "L=[0,1,2,6,7,8,0,3,4,5,9,2,0,3,4,5,6,7,0,8,2,5,6,8,0,5,4,1,0]\n",
        "sum=0\n",
        "for i in L:\n",
        "  sum+=i\n",
        "\n",
        "print(sum)"
      ],
      "metadata": {
        "colab": {
          "base_uri": "https://localhost:8080/"
        },
        "id": "7EdkLYeqJp9c",
        "outputId": "8ab80358-29f6-414b-a027-d10741335d37"
      },
      "execution_count": null,
      "outputs": [
        {
          "output_type": "stream",
          "name": "stdout",
          "text": [
            "111\n"
          ]
        }
      ]
    },
    {
      "cell_type": "code",
      "source": [
        "#Average of list\n",
        "numbers_list = [44.7, 5, 22.3, 7, 31.5, 1, 9.5, 61, 5.34, 68.05, 67,\n",
        "21, 45, 62.12, 43, 10, 23, 65, 90, 14, 83, 62, 30.54, 21.5, 11, 56, 32, 56, 90.63, 99, 45.90, 67, 33, 53, 42, 87, 67, 59, 90, 44, 88, 12.90, 45, 30.54, 21.5, 11, 56, 32, 56, 90.63, 99, 45.90, 67]\n",
        "sum=0\n",
        "for i in numbers_list:\n",
        "  sum+=i\n",
        "print(sum)\n",
        "n=len(numbers_list)\n",
        "#print(n)\n",
        "print(sum/n)"
      ],
      "metadata": {
        "colab": {
          "base_uri": "https://localhost:8080/"
        },
        "id": "PnrIvQRrJ3Kr",
        "outputId": "04d691b4-f79b-4bc6-c13e-4c7aa290d08a"
      },
      "execution_count": null,
      "outputs": [
        {
          "output_type": "stream",
          "name": "stdout",
          "text": [
            "2480.55\n",
            "46.80283018867925\n"
          ]
        }
      ]
    },
    {
      "cell_type": "code",
      "source": [
        "#Get number from user & print squares of numbers upto given number\n",
        "num=int(input('Enter the number: '))\n",
        "for i in range(1,num+1):\n",
        "  print(i**2)"
      ],
      "metadata": {
        "colab": {
          "base_uri": "https://localhost:8080/"
        },
        "id": "VcLPmUVUK1CN",
        "outputId": "b47445f1-d978-4302-c8a5-05ac172e86e8"
      },
      "execution_count": null,
      "outputs": [
        {
          "output_type": "stream",
          "name": "stdout",
          "text": [
            "Enter the number: 10\n",
            "1\n",
            "4\n",
            "9\n",
            "16\n",
            "25\n",
            "36\n",
            "49\n",
            "64\n",
            "81\n",
            "100\n"
          ]
        }
      ]
    },
    {
      "cell_type": "code",
      "source": [
        "#Print hello world thrice\n",
        "count = 3\n",
        "while count>0:\n",
        "  print('Hello World')\n",
        "  count-=1"
      ],
      "metadata": {
        "colab": {
          "base_uri": "https://localhost:8080/"
        },
        "id": "ELD28uI1LrGb",
        "outputId": "f6d41679-73c4-40e1-a9bc-55f1a21993d3"
      },
      "execution_count": null,
      "outputs": [
        {
          "output_type": "stream",
          "name": "stdout",
          "text": [
            "Hello World\n",
            "Hello World\n",
            "Hello World\n"
          ]
        }
      ]
    },
    {
      "cell_type": "code",
      "source": [
        "count=0\n",
        "while count<5:\n",
        "  print('*')\n",
        "  count+=1"
      ],
      "metadata": {
        "colab": {
          "base_uri": "https://localhost:8080/"
        },
        "id": "QJxUj5O0NYlD",
        "outputId": "1a07ce40-2f01-4fe9-e749-7835ebb2e088"
      },
      "execution_count": null,
      "outputs": [
        {
          "output_type": "stream",
          "name": "stdout",
          "text": [
            "*\n",
            "*\n",
            "*\n",
            "*\n",
            "*\n"
          ]
        }
      ]
    },
    {
      "cell_type": "code",
      "source": [
        "c=0\n",
        "while c<5:\n",
        "  print('*',end='')\n",
        "  c+=1"
      ],
      "metadata": {
        "colab": {
          "base_uri": "https://localhost:8080/"
        },
        "id": "a1DMDPd8O3fe",
        "outputId": "9cf03af2-628b-4531-9d07-1e027414a462"
      },
      "execution_count": null,
      "outputs": [
        {
          "output_type": "stream",
          "name": "stdout",
          "text": [
            "*****"
          ]
        }
      ]
    },
    {
      "cell_type": "code",
      "source": [
        "count = 0\n",
        "while count<6:\n",
        "  print('*'*count)\n",
        "  count+=1"
      ],
      "metadata": {
        "colab": {
          "base_uri": "https://localhost:8080/"
        },
        "id": "1vpRg5SJPM7Y",
        "outputId": "530a799e-8991-4806-9723-890f90a94a78"
      },
      "execution_count": null,
      "outputs": [
        {
          "output_type": "stream",
          "name": "stdout",
          "text": [
            "\n",
            "*\n",
            "**\n",
            "***\n",
            "****\n",
            "*****\n"
          ]
        }
      ]
    },
    {
      "cell_type": "code",
      "source": [
        "count = 5\n",
        "while count > 0:\n",
        "  print(\"*\" * count)\n",
        "  count -= 1"
      ],
      "metadata": {
        "colab": {
          "base_uri": "https://localhost:8080/"
        },
        "id": "HZgPmQGBPx24",
        "outputId": "77bbccf7-1d4b-470d-8b3f-3bd48022f045"
      },
      "execution_count": null,
      "outputs": [
        {
          "output_type": "stream",
          "name": "stdout",
          "text": [
            "*****\n",
            "****\n",
            "***\n",
            "**\n",
            "*\n"
          ]
        }
      ]
    },
    {
      "cell_type": "code",
      "source": [
        "rows=1\n",
        "while rows<=5:\n",
        "  columns = 1\n",
        "  while columns<=rows:\n",
        "    print(columns, end=' ')\n",
        "    columns+=1\n",
        "  print()\n",
        "  rows+=1"
      ],
      "metadata": {
        "colab": {
          "base_uri": "https://localhost:8080/"
        },
        "id": "31rOJby8QzEM",
        "outputId": "22861650-64f3-4e15-c760-8b7454331275"
      },
      "execution_count": null,
      "outputs": [
        {
          "output_type": "stream",
          "name": "stdout",
          "text": [
            "1 \n",
            "1 2 \n",
            "1 2 3 \n",
            "1 2 3 4 \n",
            "1 2 3 4 5 \n"
          ]
        }
      ]
    },
    {
      "cell_type": "code",
      "source": [
        "rows=5\n",
        "while rows>=0:\n",
        "  columns = 1\n",
        "  while columns<=rows:\n",
        "    print(columns, end=' ')\n",
        "    columns+=1\n",
        "  print()\n",
        "  rows-=1"
      ],
      "metadata": {
        "colab": {
          "base_uri": "https://localhost:8080/"
        },
        "id": "99nyma0tR2WL",
        "outputId": "7c0a82ab-ff00-498d-c655-4544272949f5"
      },
      "execution_count": null,
      "outputs": [
        {
          "output_type": "stream",
          "name": "stdout",
          "text": [
            "1 2 3 4 5 \n",
            "1 2 3 4 \n",
            "1 2 3 \n",
            "1 2 \n",
            "1 \n",
            "\n"
          ]
        }
      ]
    },
    {
      "cell_type": "code",
      "source": [
        "rows=1\n",
        "while rows<=4:\n",
        "  columns = 1\n",
        "  while columns<=rows:\n",
        "    print(columns, end=' ')\n",
        "    columns+=1\n",
        "  print()\n",
        "  rows+=1\n",
        "\n",
        "rows=5\n",
        "while rows>=0:\n",
        "  columns = 1\n",
        "  while columns<=rows:\n",
        "    print(columns, end=' ')\n",
        "    columns+=1\n",
        "  print()\n",
        "  rows-=1"
      ],
      "metadata": {
        "colab": {
          "base_uri": "https://localhost:8080/"
        },
        "id": "YtAQjlTWTKJD",
        "outputId": "81f64b43-b24d-46b0-9769-fab2edbc7900"
      },
      "execution_count": null,
      "outputs": [
        {
          "output_type": "stream",
          "name": "stdout",
          "text": [
            "1 \n",
            "1 2 \n",
            "1 2 3 \n",
            "1 2 3 4 \n",
            "1 2 3 4 5 \n",
            "1 2 3 4 \n",
            "1 2 3 \n",
            "1 2 \n",
            "1 \n",
            "\n"
          ]
        }
      ]
    },
    {
      "cell_type": "code",
      "source": [
        "count = 0\n",
        "while count<=5:\n",
        "  print(' '*(5-count),end=' ')\n",
        "  print(' *'*count)\n",
        "  count+=1"
      ],
      "metadata": {
        "colab": {
          "base_uri": "https://localhost:8080/"
        },
        "id": "HH-iNbP5UWLa",
        "outputId": "62682a57-16b6-4d3e-b8e2-dcabb699e661"
      },
      "execution_count": null,
      "outputs": [
        {
          "output_type": "stream",
          "name": "stdout",
          "text": [
            "      \n",
            "      *\n",
            "     * *\n",
            "    * * *\n",
            "   * * * *\n",
            "  * * * * *\n"
          ]
        }
      ]
    },
    {
      "cell_type": "code",
      "source": [
        "count = 5\n",
        "while count>=1:\n",
        "  print(' '*(5-count),end=' ')\n",
        "  print(' *'*count)\n",
        "  count-=1"
      ],
      "metadata": {
        "colab": {
          "base_uri": "https://localhost:8080/"
        },
        "id": "DrJcspk2U8eh",
        "outputId": "52b226c2-c6cf-4306-9cf4-dc88ac30a62b"
      },
      "execution_count": null,
      "outputs": [
        {
          "output_type": "stream",
          "name": "stdout",
          "text": [
            "  * * * * *\n",
            "   * * * *\n",
            "    * * *\n",
            "     * *\n",
            "      *\n"
          ]
        }
      ]
    },
    {
      "cell_type": "code",
      "source": [
        "#factorial with while loop\n",
        "fac = 1\n",
        "num = int(input('Enter the number: '))\n",
        "while (num):\n",
        "  fac *= num\n",
        "  num-=1\n",
        "print(fac)\n"
      ],
      "metadata": {
        "colab": {
          "base_uri": "https://localhost:8080/"
        },
        "id": "YHvOwnm9V1He",
        "outputId": "2cf5ed16-a460-40ea-dd3b-22ed900a39f9"
      },
      "execution_count": null,
      "outputs": [
        {
          "output_type": "stream",
          "name": "stdout",
          "text": [
            "Enter the number: 5\n",
            "120\n"
          ]
        }
      ]
    },
    {
      "cell_type": "code",
      "source": [
        "#Calc\n",
        "while True:\n",
        "  op = input('Enter the operator: ')\n",
        "  a = int(input('Enter a number: '))\n",
        "  b = int(input('Enter a number: '))\n",
        "  if op == '+':\n",
        "    print('Sum is ',str(a+b))\n",
        "  elif op == '-':\n",
        "    print('Difference is ',str(a-b))\n",
        "  elif op == '*':\n",
        "    print('Product is ',str(a*b))\n",
        "  else:\n",
        "    print('Invalid! Try Again.')\n",
        "    break\n",
        "  y = input('Would you like to try again?(yes/no)')\n",
        "  if y.lower() == 'yes':\n",
        "    continue\n",
        "  elif y.lower() == 'no':\n",
        "    break\n",
        "  else:\n",
        "    break\n"
      ],
      "metadata": {
        "id": "Sdk6s19KWiyU",
        "colab": {
          "base_uri": "https://localhost:8080/"
        },
        "outputId": "2d0f8c20-c109-4e29-8364-e322fc71939e"
      },
      "execution_count": null,
      "outputs": [
        {
          "output_type": "stream",
          "name": "stdout",
          "text": [
            "Enter the operator: +\n",
            "Invalid! Try Again!\n"
          ]
        }
      ]
    },
    {
      "cell_type": "code",
      "source": [
        "#Menu\n",
        "print('1.Add')\n",
        "print('2.Subtract')\n",
        "print('3.Multiply')\n",
        "print('4.Quit')\n",
        "\n",
        "\n",
        "def add():\n",
        "  print('Sum is ',str(x+y))\n",
        "def sub():\n",
        "  print('Difference is ',str(x-y))\n",
        "def prod():\n",
        "  print('Product is ',str(x*y))\n",
        "\n",
        "while True:\n",
        "  o = int(input('Select your option: '))\n",
        "  x = int(input('Enter a number: '))\n",
        "  y = int(input('Enter a number: '))\n",
        "  if o==1:\n",
        "    add()\n",
        "  elif o==2:\n",
        "    sub()\n",
        "  elif o==3:\n",
        "    prod()\n",
        "  else:\n",
        "    print('Invalid!')\n",
        "    break\n"
      ],
      "metadata": {
        "colab": {
          "base_uri": "https://localhost:8080/"
        },
        "id": "rklMzGaKfTck",
        "outputId": "c2418622-4b03-42f8-cc43-a7bf53514208"
      },
      "execution_count": null,
      "outputs": [
        {
          "output_type": "stream",
          "name": "stdout",
          "text": [
            "1.Add\n",
            "2.Subtract\n",
            "3.Multiply\n",
            "4.Quit\n",
            "Select your option: 2\n",
            "Enter a number: 100\n",
            "Enter a number: 2\n",
            "Difference is  98\n",
            "Select your option: 5\n",
            "Enter a number: 1\n",
            "Enter a number: 1\n",
            "Invalid!\n"
          ]
        }
      ]
    },
    {
      "cell_type": "code",
      "source": [
        "#Odd or Even\n",
        "def oddeven(x):\n",
        "  if x%2==0:\n",
        "    print('Even')\n",
        "  else:\n",
        "    print('Odd')"
      ],
      "metadata": {
        "id": "GgsjpZhthwEe"
      },
      "execution_count": null,
      "outputs": []
    },
    {
      "cell_type": "code",
      "source": [
        "oddeven(2)\n",
        "oddeven(7)\n",
        "oddeven(15)\n",
        "oddeven(8)"
      ],
      "metadata": {
        "colab": {
          "base_uri": "https://localhost:8080/"
        },
        "id": "QVcm70KYujxt",
        "outputId": "986c1465-c36c-4152-f3c0-7f46c6e16159"
      },
      "execution_count": null,
      "outputs": [
        {
          "output_type": "stream",
          "name": "stdout",
          "text": [
            "Even\n",
            "Odd\n",
            "Odd\n",
            "Even\n"
          ]
        }
      ]
    },
    {
      "cell_type": "code",
      "source": [
        "#Higher Number out of the two\n",
        "def highNum(x,y):\n",
        "  if x>y:\n",
        "    print(x)\n",
        "  else:\n",
        "    print(y)\n",
        "\n",
        "highNum(2,3)"
      ],
      "metadata": {
        "colab": {
          "base_uri": "https://localhost:8080/"
        },
        "id": "VAVHIJmAuqKM",
        "outputId": "f720e14b-b364-4d0b-bd21-710d9cfdef2b"
      },
      "execution_count": null,
      "outputs": [
        {
          "output_type": "stream",
          "name": "stdout",
          "text": [
            "3\n"
          ]
        }
      ]
    },
    {
      "cell_type": "code",
      "source": [
        "#Scope of Variable\n",
        "z = 10 #Global Scope\n",
        "def num(z):\n",
        "  z=8 #Local Variable\n",
        "  print(z)\n",
        "num(z)\n",
        "print(z)"
      ],
      "metadata": {
        "colab": {
          "base_uri": "https://localhost:8080/"
        },
        "id": "CaAoOKu8vmBC",
        "outputId": "a44b99bc-78f5-426d-c141-18f3e9d0542a"
      },
      "execution_count": null,
      "outputs": [
        {
          "output_type": "stream",
          "name": "stdout",
          "text": [
            "8\n",
            "10\n"
          ]
        }
      ]
    },
    {
      "cell_type": "code",
      "source": [
        "#Square of a number (function)\n",
        "def power(x):\n",
        "  print(x**2)\n",
        "power(2)"
      ],
      "metadata": {
        "colab": {
          "base_uri": "https://localhost:8080/"
        },
        "id": "ZsPUzjl5v7e6",
        "outputId": "fff9e27d-cb19-4537-c1a2-88f653580f62"
      },
      "execution_count": null,
      "outputs": [
        {
          "output_type": "stream",
          "name": "stdout",
          "text": [
            "4\n"
          ]
        }
      ]
    },
    {
      "cell_type": "code",
      "source": [
        "#Square of a number (function)\n",
        "def power(a):\n",
        "  sq_num = pow(a,2)\n",
        "  return sq_num\n",
        "\n",
        "power(5)"
      ],
      "metadata": {
        "colab": {
          "base_uri": "https://localhost:8080/"
        },
        "id": "Kr5r8jxKwvrT",
        "outputId": "15d3c74e-e8b3-493a-c7b3-0666cab7e671"
      },
      "execution_count": null,
      "outputs": [
        {
          "output_type": "execute_result",
          "data": {
            "text/plain": [
              "25"
            ]
          },
          "metadata": {},
          "execution_count": 7
        }
      ]
    },
    {
      "cell_type": "code",
      "source": [
        "#Square of all list elements using a loop\n",
        "Lz= [1,2,3,4,5,6,7]\n",
        "def sq(L):\n",
        "  for x in L:\n",
        "    print(x**2)\n",
        "\n",
        "sq(Lz)"
      ],
      "metadata": {
        "colab": {
          "base_uri": "https://localhost:8080/"
        },
        "id": "ZZeiijzwxWnq",
        "outputId": "2df31450-8882-4afb-cd1c-41c93e4bd6e4"
      },
      "execution_count": null,
      "outputs": [
        {
          "output_type": "stream",
          "name": "stdout",
          "text": [
            "1\n",
            "4\n",
            "9\n",
            "16\n",
            "25\n",
            "36\n",
            "49\n"
          ]
        }
      ]
    },
    {
      "cell_type": "code",
      "source": [
        "#Square of all list elements using single line argument\n",
        "l = [1,2,3,8,9,0]\n",
        "square = [x**2 for x in l]\n",
        "print(square)"
      ],
      "metadata": {
        "colab": {
          "base_uri": "https://localhost:8080/"
        },
        "id": "QhmQU7ohyHJk",
        "outputId": "25c0cc66-0137-4b05-cd83-898e4cfd835c"
      },
      "execution_count": null,
      "outputs": [
        {
          "output_type": "stream",
          "name": "stdout",
          "text": [
            "[1, 4, 9, 64, 81, 0]\n"
          ]
        }
      ]
    },
    {
      "cell_type": "code",
      "source": [
        "#Here are the list contaning dollar amount\n",
        "dollar = [100,203,99,40,610]\n",
        "#Convert the above to rupees at rate of 80.12 and find the total\n",
        "rupees = 80.12\n",
        "c_c = []\n",
        "for d in dollar:\n",
        "  c_c.append(d*rupees)\n",
        "print(c_c)"
      ],
      "metadata": {
        "colab": {
          "base_uri": "https://localhost:8080/"
        },
        "id": "1ZN8FkrNy1Yb",
        "outputId": "aa924263-d5e6-4651-b36f-607a3090be5d"
      },
      "execution_count": null,
      "outputs": [
        {
          "output_type": "stream",
          "name": "stdout",
          "text": [
            "[8012.0, 16264.36, 7931.88, 3204.8, 48873.200000000004]\n"
          ]
        }
      ]
    },
    {
      "cell_type": "code",
      "source": [
        "#SLA\n",
        "covert = [d*rupees for d in dollar]\n",
        "covert"
      ],
      "metadata": {
        "colab": {
          "base_uri": "https://localhost:8080/"
        },
        "id": "kiCm35xXzcBD",
        "outputId": "2e0ca567-88d3-4381-e0b1-69c7102221c3"
      },
      "execution_count": null,
      "outputs": [
        {
          "output_type": "execute_result",
          "data": {
            "text/plain": [
              "[8012.0, 16264.36, 7931.88, 3204.8, 48873.200000000004]"
            ]
          },
          "metadata": {},
          "execution_count": 13
        }
      ]
    },
    {
      "cell_type": "code",
      "source": [
        "# For range of 0 to 100, print values that're divisble by 2 as well 5\n",
        "num_L = [x for x in range(0,100) if x%2==0 if x%5==0]\n",
        "num_L"
      ],
      "metadata": {
        "colab": {
          "base_uri": "https://localhost:8080/"
        },
        "id": "RPdlJiUU0Roe",
        "outputId": "585525ea-7b56-4a89-a5ce-dc52f9fb614a"
      },
      "execution_count": null,
      "outputs": [
        {
          "output_type": "execute_result",
          "data": {
            "text/plain": [
              "[0, 10, 20, 30, 40, 50, 60, 70, 80, 90]"
            ]
          },
          "metadata": {},
          "execution_count": 5
        }
      ]
    },
    {
      "cell_type": "code",
      "source": [
        "#Stock Price\n",
        "stocks = {\n",
        "    'aaa':100,\n",
        "    'bbb':200,\n",
        "    'ccc':250,\n",
        "    'ddd':50\n",
        "}\n",
        "\n",
        "st={}\n",
        "for stock_name, price in stocks.items():\n",
        "  if(price>100):\n",
        "    price*=1.05\n",
        "    print(stock_name,price)"
      ],
      "metadata": {
        "colab": {
          "base_uri": "https://localhost:8080/"
        },
        "id": "e0IIpX2ueob2",
        "outputId": "530a53cf-4c25-4da7-e145-43d4bdc07fe1"
      },
      "execution_count": null,
      "outputs": [
        {
          "output_type": "stream",
          "name": "stdout",
          "text": [
            "bbb 210.0\n",
            "ccc 262.5\n"
          ]
        }
      ]
    },
    {
      "cell_type": "code",
      "source": [
        "#Creating a Game\n",
        "import random\n",
        "secret_no = random.randint(1,100)\n",
        "max_attempts = 5\n",
        "attempts = 0\n",
        "print('Welcome to the number game!')\n",
        "while attempts<max_attempts:\n",
        "  guess=int(input('Guess the secret number: '))\n",
        "  if guess==secret_no:\n",
        "    print('You won!')\n",
        "    break\n",
        "  elif guess<secret_no:\n",
        "    print('Too low! Try Again!')\n",
        "  else:\n",
        "    print('Too high! Try Again!')\n",
        "  attempts+=1\n",
        "if(attempts==max_attempts):\n",
        "  print('Sorry, you\\'ve run out of attempts')\n",
        "  print('The secret number was',secret_no)"
      ],
      "metadata": {
        "colab": {
          "base_uri": "https://localhost:8080/"
        },
        "id": "My3f5szbgcCB",
        "outputId": "9673bd42-7456-4b26-eb49-e06751bb1ad3"
      },
      "execution_count": null,
      "outputs": [
        {
          "output_type": "stream",
          "name": "stdout",
          "text": [
            "Welcome to the number game!\n",
            "Guess the secret number: 55\n",
            "Too high! Try Again!\n",
            "Guess the secret number: 40\n",
            "Too low! Try Again!\n",
            "Guess the secret number: 45\n",
            "Too low! Try Again!\n",
            "Guess the secret number: 50\n",
            "Too low! Try Again!\n",
            "Guess the secret number: 53\n",
            "You won!\n",
            "Sorry, you've run out of attempts\n",
            "The secret number was 53\n"
          ]
        }
      ]
    },
    {
      "cell_type": "code",
      "source": [
        "#Lamba Functions\n",
        "add = lambda x,y: x+y\n",
        "print(add(6,2))"
      ],
      "metadata": {
        "id": "QQJW0OsoiJXQ",
        "colab": {
          "base_uri": "https://localhost:8080/"
        },
        "outputId": "490d2d7f-deef-4be9-87f6-70a805199610"
      },
      "execution_count": null,
      "outputs": [
        {
          "output_type": "stream",
          "name": "stdout",
          "text": [
            "8\n"
          ]
        }
      ]
    },
    {
      "cell_type": "code",
      "source": [
        "sub = lambda x,y: x-y\n",
        "print(sub(18,10))\n",
        "\n",
        "mul = lambda a,b: a*b\n",
        "print(mul(4,2))"
      ],
      "metadata": {
        "colab": {
          "base_uri": "https://localhost:8080/"
        },
        "id": "b9mpuPeN2B7Z",
        "outputId": "2c207d4e-83d1-46cd-ac15-cecab8625698"
      },
      "execution_count": null,
      "outputs": [
        {
          "output_type": "stream",
          "name": "stdout",
          "text": [
            "8\n",
            "8\n"
          ]
        }
      ]
    },
    {
      "cell_type": "code",
      "source": [
        "'''\n",
        "Limitations of Lambda function:\n",
        "Can only be used for simple programs\n",
        "'''"
      ],
      "metadata": {
        "colab": {
          "base_uri": "https://localhost:8080/",
          "height": 36
        },
        "id": "lz_DOGrr2Pf9",
        "outputId": "ba4490a2-af25-4889-fdd6-fa143a7f9af5"
      },
      "execution_count": null,
      "outputs": [
        {
          "output_type": "execute_result",
          "data": {
            "text/plain": [
              "'\\nLimitations of Lambda function:\\nCan only be used for simple programs\\n'"
            ],
            "application/vnd.google.colaboratory.intrinsic+json": {
              "type": "string"
            }
          },
          "metadata": {},
          "execution_count": 4
        }
      ]
    },
    {
      "cell_type": "code",
      "source": [
        "power = lambda a:a**3\n",
        "print(power(2))"
      ],
      "metadata": {
        "colab": {
          "base_uri": "https://localhost:8080/"
        },
        "id": "kOZdDTT12a60",
        "outputId": "f50f85bd-1542-48d2-97e4-e91ed48b052c"
      },
      "execution_count": null,
      "outputs": [
        {
          "output_type": "stream",
          "name": "stdout",
          "text": [
            "8\n"
          ]
        }
      ]
    },
    {
      "cell_type": "code",
      "source": [
        "#Check for even number\n",
        "is_even = lambda x: x%2==0\n",
        "is_even(8)"
      ],
      "metadata": {
        "colab": {
          "base_uri": "https://localhost:8080/"
        },
        "id": "az_W_jYp20Xg",
        "outputId": "d539f81e-5569-4855-de75-162bbd428d3c"
      },
      "execution_count": null,
      "outputs": [
        {
          "output_type": "execute_result",
          "data": {
            "text/plain": [
              "True"
            ]
          },
          "metadata": {},
          "execution_count": 11
        }
      ]
    },
    {
      "cell_type": "code",
      "source": [
        "#Convert celcius to farenheit\n",
        "c_to_f = lambda c: (c*(9/5))+32\n",
        "print(int(c_to_f(-13.3333)))"
      ],
      "metadata": {
        "colab": {
          "base_uri": "https://localhost:8080/"
        },
        "id": "JiXr3fiQ3Lgo",
        "outputId": "4b1c28b0-c88d-4148-a983-a3e6140132fd"
      },
      "execution_count": null,
      "outputs": [
        {
          "output_type": "stream",
          "name": "stdout",
          "text": [
            "8\n"
          ]
        }
      ]
    }
  ]
}